{
 "cells": [
  {
   "cell_type": "code",
   "execution_count": 5,
   "metadata": {},
   "outputs": [],
   "source": [
    "import sys\n",
    "import os\n",
    "import numpy\n",
    "import matplotlib.pyplot as plt\n",
    "sys.path.append(os.path.abspath(os.path.join(os.getcwd(), '../../')))\n",
    "import gillespy2.core.gillespySolver\n",
    "import gillespy2\n",
    "from gillespy2.core.gillespyError import SolverError, DirectoryError, BuildError, ExecutionError\n",
    "from gillespy2.solvers.numpy.basic_tau_hybrid_solver_with_live_graphing import BasicTauHybridSolverLive"
   ]
  },
  {
   "cell_type": "code",
   "execution_count": 2,
   "metadata": {
    "collapsed": true
   },
   "outputs": [],
   "source": [
    "class LacOperon(gillespy2.Model):\n",
    "    \"\"\"\n",
    "    Heath LS, Cao Y. Problem Solving Handbook in Computational Biology and Bioinformatics. Springer; 2014.\n",
    "    \"\"\"\n",
    "\n",
    "    def __init__(self, parameter_values=None):\n",
    "        # initialize Model\n",
    "        gillespy2.Model.__init__(self, name=\"LacOperon\")\n",
    "        \n",
    "        # Species\n",
    "        s1 = gillespy2.Species(name='PLac', initial_value=300)\n",
    "        s2 = gillespy2.Species(name='RNAP', initial_value=120)\n",
    "        s3 = gillespy2.Species(name='PLacRNAP', initial_value=0)\n",
    "        s4 = gillespy2.Species(name='TrLacZ1', initial_value=0)\n",
    "        s5 = gillespy2.Species(name='TrLacZ2', initial_value=0)\n",
    "        s6 = gillespy2.Species(name='TrLacY1', initial_value=0)\n",
    "        s7 = gillespy2.Species(name='TrLacY2', initial_value=0)\n",
    "        s8 = gillespy2.Species(name='RBSLacY', initial_value=300)\n",
    "        s9 = gillespy2.Species(name='RBSLacZ', initial_value=120)\n",
    "        s10 = gillespy2.Species(name='Ribosome', initial_value=0)\n",
    "        s11 = gillespy2.Species(name='RbsRibosomeLacY', initial_value=0)\n",
    "        s12 = gillespy2.Species(name='RbsRibosomeLacZ', initial_value=0)\n",
    "        s13 = gillespy2.Species(name='TrRbsLacZ', initial_value=0)\n",
    "        s14 = gillespy2.Species(name='TrRbsLacY', initial_value=0)\n",
    "        s15 = gillespy2.Species(name='LacZ', initial_value=0)\n",
    "        s16 = gillespy2.Species(name='LacY', initial_value=0)\n",
    "        s17 = gillespy2.Species(name='dgrLacZ', initial_value=0)\n",
    "        s18 = gillespy2.Species(name='dgrLacY', initial_value=0)\n",
    "        s19 = gillespy2.Species(name='dgrRbsLacZ', initial_value=0)\n",
    "        s20 = gillespy2.Species(name='dgrRbsLacY', initial_value=0)\n",
    "        s21 = gillespy2.Species(name='lactose', initial_value=0)\n",
    "        s22 = gillespy2.Species(name='LacZlactose', initial_value=0)\n",
    "        s23 = gillespy2.Species(name='product', initial_value=0)\n",
    "        \n",
    "        self.add_species(\n",
    "            [s1, s2, s3, s4, s5, s6, s7, s8, s9, s10, s11, s12, s13, s14, s15, s16, s17, s18, s19, s20, s21, s22,\n",
    "             s23])\n",
    "\n",
    "        # Parameters\n",
    "        k1 = gillespy2.Parameter(name='k1', expression=0.17)\n",
    "        k2 = gillespy2.Parameter(name='k2', expression=10)\n",
    "        k3 = gillespy2.Parameter(name='k3', expression=1)\n",
    "        k4 = gillespy2.Parameter(name='k4', expression=1)\n",
    "        k5 = gillespy2.Parameter(name='k5', expression=0.015)\n",
    "        k6 = gillespy2.Parameter(name='k6', expression=1)\n",
    "        k7 = gillespy2.Parameter(name='k7', expression=0.36)\n",
    "        k8 = gillespy2.Parameter(name='k8', expression=0.17)\n",
    "        k9 = gillespy2.Parameter(name='k9', expression=0.17)\n",
    "        k10 = gillespy2.Parameter(name='k10', expression=0.45)\n",
    "        k11 = gillespy2.Parameter(name='k11', expression=0.45)\n",
    "        k12 = gillespy2.Parameter(name='k12', expression=0.4)\n",
    "        k13 = gillespy2.Parameter(name='k13', expression=0.4)\n",
    "        k14 = gillespy2.Parameter(name='k14', expression=0.015)\n",
    "        k15 = gillespy2.Parameter(name='k15', expression=0.036)\n",
    "        k16 = gillespy2.Parameter(name='k16', expression=6.42e-5)\n",
    "        k17 = gillespy2.Parameter(name='k17', expression=6.42e-5)\n",
    "        k18 = gillespy2.Parameter(name='k18', expression=0.3)\n",
    "        k19 = gillespy2.Parameter(name='k19', expression=0.3)\n",
    "        k20 = gillespy2.Parameter(name='k20', expression=9.52e-5)\n",
    "        k21 = gillespy2.Parameter(name='k21', expression=431)\n",
    "        k22 = gillespy2.Parameter(name='k22', expression=14)\n",
    "        self.add_parameter(\n",
    "            [k1, k2, k3, k4, k5, k6, k7, k8, k9, k10, k11, k12, k13, k14, k15, k16, k17, k18, k19, k20, k21, k22])\n",
    "\n",
    "        # Reactions\n",
    "        j1 = gillespy2.Reaction(name=\"j1\", reactants={s1: 1, s2: 1}, products={s3: 2}, rate=k1)\n",
    "        j2 = gillespy2.Reaction(name=\"j2\", reactants={s3: 1}, products={s1: 1, s2: 1}, rate=k2)\n",
    "        j3 = gillespy2.Reaction(name=\"j3\", reactants={s3: 1}, products={s4: 1}, rate=k3)\n",
    "        j4 = gillespy2.Reaction(name=\"j4\", reactants={s4: 1}, products={s9: 1, s1: 1, s5: 1}, rate=k4)\n",
    "        j5 = gillespy2.Reaction(name=\"j5\", reactants={s5: 1}, products={s6: 1}, rate=k5)\n",
    "        j6 = gillespy2.Reaction(name=\"j6\", reactants={s6: 1}, products={s8: 1, s7: 1}, rate=k6)\n",
    "        j7 = gillespy2.Reaction(name=\"j7\", reactants={s7: 1}, products={s2: 1}, rate=k7)\n",
    "        j8 = gillespy2.Reaction(name=\"j8\", reactants={s10: 1, s9: 1}, products={s12: 1}, rate=k8)\n",
    "        j9 = gillespy2.Reaction(name=\"j9\", reactants={s10: 1, s8: 1}, products={s11: 1}, rate=k9)\n",
    "        j10 = gillespy2.Reaction(name=\"j10\", reactants={s12: 1}, products={s10: 1, s9: 1}, rate=k10)\n",
    "        j11 = gillespy2.Reaction(name=\"j11\", reactants={s11: 1}, products={s10: 1, s8: 1}, rate=k11)\n",
    "        j12 = gillespy2.Reaction(name=\"j12\", reactants={s12: 1}, products={s13: 1, s9: 1}, rate=k12)\n",
    "        j13 = gillespy2.Reaction(name=\"j13\", reactants={s11: 1}, products={s14: 1, s8: 1}, rate=k13)\n",
    "        j14 = gillespy2.Reaction(name=\"j14\", reactants={s13: 1}, products={s15: 1}, rate=k14)\n",
    "        j15 = gillespy2.Reaction(name=\"j15\", reactants={s14: 1}, products={s16: 1}, rate=k15)\n",
    "        j16 = gillespy2.Reaction(name=\"j16\", reactants={s15: 1}, products={s17: 1}, rate=k16)\n",
    "        j17 = gillespy2.Reaction(name=\"j17\", reactants={s16: 1}, products={s18: 1}, rate=k17)\n",
    "        j18 = gillespy2.Reaction(name=\"j18\", reactants={s9: 1}, products={s19: 1}, rate=k18)\n",
    "        j19 = gillespy2.Reaction(name=\"j19\", reactants={s8: 1}, products={s20: 1}, rate=k19)\n",
    "        j20 = gillespy2.Reaction(name=\"j20\", reactants={s15: 1, s21: 1}, products={s22: 1}, rate=k20)\n",
    "        j21 = gillespy2.Reaction(name=\"j21\", reactants={s22: 1}, products={s15: 1, s23: 1}, rate=k21)\n",
    "        j22 = gillespy2.Reaction(name=\"j22\", reactants={s16: 1}, products={s21: 1, s16: 1}, rate=k22)\n",
    "        self.add_reaction(\n",
    "            [j1, j2, j3, j4, j5, j6, j7, j8, j9, j10, j11, j12, j13, j14, j15, j16, j17, j18, j19, j20, j21, j22])\n",
    "        self.timespan(numpy.linspace(0, 10, 20))\n"
   ]
  },
  {
   "cell_type": "code",
   "execution_count": 3,
   "metadata": {},
   "outputs": [],
   "source": [
    "model = LacOperon()"
   ]
  },
  {
   "cell_type": "code",
   "execution_count": 4,
   "metadata": {},
   "outputs": [
    {
     "ename": "NameError",
     "evalue": "name 'BasicTauHybridSolverLive' is not defined",
     "traceback": [
      "\u001b[0;31m---------------------------------------------------------------------------\u001b[0m",
      "\u001b[0;31mNameError\u001b[0m                                 Traceback (most recent call last)",
      "\u001b[0;32m<ipython-input-4-976a32c926bd>\u001b[0m in \u001b[0;36m<module>\u001b[0;34m()\u001b[0m\n\u001b[0;32m----> 1\u001b[0;31m \u001b[0mget_ipython\u001b[0m\u001b[0;34m(\u001b[0m\u001b[0;34m)\u001b[0m\u001b[0;34m.\u001b[0m\u001b[0mmagic\u001b[0m\u001b[0;34m(\u001b[0m\u001b[0;34m'time results = model.run(solver=BasicTauHybridSolverLive())'\u001b[0m\u001b[0;34m)\u001b[0m\u001b[0;34m\u001b[0m\u001b[0;34m\u001b[0m\u001b[0m\n\u001b[0m",
      "\u001b[0;32m/Users/samuelhodges/PycharmProjects/GillesPy2/venv/lib/python3.6/site-packages/IPython/core/interactiveshell.py\u001b[0m in \u001b[0;36mmagic\u001b[0;34m(self, arg_s)\u001b[0m\n\u001b[1;32m   2144\u001b[0m         \u001b[0mmagic_name\u001b[0m\u001b[0;34m,\u001b[0m \u001b[0m_\u001b[0m\u001b[0;34m,\u001b[0m \u001b[0mmagic_arg_s\u001b[0m \u001b[0;34m=\u001b[0m \u001b[0marg_s\u001b[0m\u001b[0;34m.\u001b[0m\u001b[0mpartition\u001b[0m\u001b[0;34m(\u001b[0m\u001b[0;34m' '\u001b[0m\u001b[0;34m)\u001b[0m\u001b[0;34m\u001b[0m\u001b[0;34m\u001b[0m\u001b[0m\n\u001b[1;32m   2145\u001b[0m         \u001b[0mmagic_name\u001b[0m \u001b[0;34m=\u001b[0m \u001b[0mmagic_name\u001b[0m\u001b[0;34m.\u001b[0m\u001b[0mlstrip\u001b[0m\u001b[0;34m(\u001b[0m\u001b[0mprefilter\u001b[0m\u001b[0;34m.\u001b[0m\u001b[0mESC_MAGIC\u001b[0m\u001b[0;34m)\u001b[0m\u001b[0;34m\u001b[0m\u001b[0;34m\u001b[0m\u001b[0m\n\u001b[0;32m-> 2146\u001b[0;31m         \u001b[0;32mreturn\u001b[0m \u001b[0mself\u001b[0m\u001b[0;34m.\u001b[0m\u001b[0mrun_line_magic\u001b[0m\u001b[0;34m(\u001b[0m\u001b[0mmagic_name\u001b[0m\u001b[0;34m,\u001b[0m \u001b[0mmagic_arg_s\u001b[0m\u001b[0;34m)\u001b[0m\u001b[0;34m\u001b[0m\u001b[0;34m\u001b[0m\u001b[0m\n\u001b[0m\u001b[1;32m   2147\u001b[0m \u001b[0;34m\u001b[0m\u001b[0m\n\u001b[1;32m   2148\u001b[0m     \u001b[0;31m#-------------------------------------------------------------------------\u001b[0m\u001b[0;34m\u001b[0m\u001b[0;34m\u001b[0m\u001b[0;34m\u001b[0m\u001b[0m\n",
      "\u001b[0;32m/Users/samuelhodges/PycharmProjects/GillesPy2/venv/lib/python3.6/site-packages/IPython/core/interactiveshell.py\u001b[0m in \u001b[0;36mrun_line_magic\u001b[0;34m(self, magic_name, line)\u001b[0m\n\u001b[1;32m   2065\u001b[0m                 \u001b[0mkwargs\u001b[0m\u001b[0;34m[\u001b[0m\u001b[0;34m'local_ns'\u001b[0m\u001b[0;34m]\u001b[0m \u001b[0;34m=\u001b[0m \u001b[0msys\u001b[0m\u001b[0;34m.\u001b[0m\u001b[0m_getframe\u001b[0m\u001b[0;34m(\u001b[0m\u001b[0mstack_depth\u001b[0m\u001b[0;34m)\u001b[0m\u001b[0;34m.\u001b[0m\u001b[0mf_locals\u001b[0m\u001b[0;34m\u001b[0m\u001b[0;34m\u001b[0m\u001b[0m\n\u001b[1;32m   2066\u001b[0m             \u001b[0;32mwith\u001b[0m \u001b[0mself\u001b[0m\u001b[0;34m.\u001b[0m\u001b[0mbuiltin_trap\u001b[0m\u001b[0;34m:\u001b[0m\u001b[0;34m\u001b[0m\u001b[0;34m\u001b[0m\u001b[0m\n\u001b[0;32m-> 2067\u001b[0;31m                 \u001b[0mresult\u001b[0m \u001b[0;34m=\u001b[0m \u001b[0mfn\u001b[0m\u001b[0;34m(\u001b[0m\u001b[0;34m*\u001b[0m\u001b[0margs\u001b[0m\u001b[0;34m,\u001b[0m\u001b[0;34m**\u001b[0m\u001b[0mkwargs\u001b[0m\u001b[0;34m)\u001b[0m\u001b[0;34m\u001b[0m\u001b[0;34m\u001b[0m\u001b[0m\n\u001b[0m\u001b[1;32m   2068\u001b[0m             \u001b[0;32mreturn\u001b[0m \u001b[0mresult\u001b[0m\u001b[0;34m\u001b[0m\u001b[0;34m\u001b[0m\u001b[0m\n\u001b[1;32m   2069\u001b[0m \u001b[0;34m\u001b[0m\u001b[0m\n",
      "\u001b[0;32m</Users/samuelhodges/PycharmProjects/GillesPy2/venv/lib/python3.6/site-packages/decorator.py:decorator-gen-59>\u001b[0m in \u001b[0;36mtime\u001b[0;34m(self, line, cell, local_ns)\u001b[0m\n",
      "\u001b[0;32m/Users/samuelhodges/PycharmProjects/GillesPy2/venv/lib/python3.6/site-packages/IPython/core/magic.py\u001b[0m in \u001b[0;36m<lambda>\u001b[0;34m(f, *a, **k)\u001b[0m\n\u001b[1;32m    186\u001b[0m     \u001b[0;31m# but it's overkill for just that one bit of state.\u001b[0m\u001b[0;34m\u001b[0m\u001b[0;34m\u001b[0m\u001b[0;34m\u001b[0m\u001b[0m\n\u001b[1;32m    187\u001b[0m     \u001b[0;32mdef\u001b[0m \u001b[0mmagic_deco\u001b[0m\u001b[0;34m(\u001b[0m\u001b[0marg\u001b[0m\u001b[0;34m)\u001b[0m\u001b[0;34m:\u001b[0m\u001b[0;34m\u001b[0m\u001b[0;34m\u001b[0m\u001b[0m\n\u001b[0;32m--> 188\u001b[0;31m         \u001b[0mcall\u001b[0m \u001b[0;34m=\u001b[0m \u001b[0;32mlambda\u001b[0m \u001b[0mf\u001b[0m\u001b[0;34m,\u001b[0m \u001b[0;34m*\u001b[0m\u001b[0ma\u001b[0m\u001b[0;34m,\u001b[0m \u001b[0;34m**\u001b[0m\u001b[0mk\u001b[0m\u001b[0;34m:\u001b[0m \u001b[0mf\u001b[0m\u001b[0;34m(\u001b[0m\u001b[0;34m*\u001b[0m\u001b[0ma\u001b[0m\u001b[0;34m,\u001b[0m \u001b[0;34m**\u001b[0m\u001b[0mk\u001b[0m\u001b[0;34m)\u001b[0m\u001b[0;34m\u001b[0m\u001b[0;34m\u001b[0m\u001b[0m\n\u001b[0m\u001b[1;32m    189\u001b[0m \u001b[0;34m\u001b[0m\u001b[0m\n\u001b[1;32m    190\u001b[0m         \u001b[0;32mif\u001b[0m \u001b[0mcallable\u001b[0m\u001b[0;34m(\u001b[0m\u001b[0marg\u001b[0m\u001b[0;34m)\u001b[0m\u001b[0;34m:\u001b[0m\u001b[0;34m\u001b[0m\u001b[0;34m\u001b[0m\u001b[0m\n",
      "\u001b[0;32m/Users/samuelhodges/PycharmProjects/GillesPy2/venv/lib/python3.6/site-packages/IPython/core/magics/execution.py\u001b[0m in \u001b[0;36mtime\u001b[0;34m(self, line, cell, local_ns)\u001b[0m\n\u001b[1;32m   1174\u001b[0m         \u001b[0;32melse\u001b[0m\u001b[0;34m:\u001b[0m\u001b[0;34m\u001b[0m\u001b[0;34m\u001b[0m\u001b[0m\n\u001b[1;32m   1175\u001b[0m             \u001b[0mst\u001b[0m \u001b[0;34m=\u001b[0m \u001b[0mclock2\u001b[0m\u001b[0;34m(\u001b[0m\u001b[0;34m)\u001b[0m\u001b[0;34m\u001b[0m\u001b[0;34m\u001b[0m\u001b[0m\n\u001b[0;32m-> 1176\u001b[0;31m             \u001b[0mexec\u001b[0m\u001b[0;34m(\u001b[0m\u001b[0mcode\u001b[0m\u001b[0;34m,\u001b[0m \u001b[0mglob\u001b[0m\u001b[0;34m,\u001b[0m \u001b[0mlocal_ns\u001b[0m\u001b[0;34m)\u001b[0m\u001b[0;34m\u001b[0m\u001b[0;34m\u001b[0m\u001b[0m\n\u001b[0m\u001b[1;32m   1177\u001b[0m             \u001b[0mend\u001b[0m \u001b[0;34m=\u001b[0m \u001b[0mclock2\u001b[0m\u001b[0;34m(\u001b[0m\u001b[0;34m)\u001b[0m\u001b[0;34m\u001b[0m\u001b[0;34m\u001b[0m\u001b[0m\n\u001b[1;32m   1178\u001b[0m             \u001b[0mout\u001b[0m \u001b[0;34m=\u001b[0m \u001b[0;32mNone\u001b[0m\u001b[0;34m\u001b[0m\u001b[0;34m\u001b[0m\u001b[0m\n",
      "\u001b[0;32m<timed exec>\u001b[0m in \u001b[0;36m<module>\u001b[0;34m()\u001b[0m\n",
      "\u001b[0;31mNameError\u001b[0m: name 'BasicTauHybridSolverLive' is not defined"
     ],
     "output_type": "error"
    }
   ],
   "source": [
    "%time results = model.run(solver=BasicTauHybridSolverLive())"
   ]
  },
  {
   "cell_type": "code",
   "execution_count": null,
   "metadata": {},
   "outputs": [],
   "source": []
  }
 ],
 "metadata": {
  "kernelspec": {
   "display_name": "Python 2",
   "language": "python",
   "name": "python2"
  },
  "language_info": {
   "codemirror_mode": {
    "name": "ipython",
    "version": 2
   },
   "file_extension": ".py",
   "mimetype": "text/x-python",
   "name": "python",
   "nbconvert_exporter": "python",
   "pygments_lexer": "ipython2",
   "version": "2.7.6"
  }
 },
 "nbformat": 4,
 "nbformat_minor": 0
}
