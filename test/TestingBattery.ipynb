{
 "cells": [
  {
   "cell_type": "markdown",
   "metadata": {},
   "source": [
    "# Current Testing Battery"
   ]
  },
  {
   "cell_type": "code",
   "execution_count": 1,
   "metadata": {},
   "outputs": [],
   "source": [
    "import sys\n",
    "import statistics\n",
    "import numpy\n",
    "from itertools import product\n",
    "from timeit import default_timer as timer\n",
    "try:\n",
    "    from tqdm import tqdm\n",
    "except ImportError:\n",
    "    raise ImportError('tqdm is required. Please install it.')\n",
    "sys.path.append(\"..\")\n",
    "import gillespy2\n",
    "from scipy import stats\n",
    "import matplotlib.pyplot as plt"
   ]
  },
  {
   "cell_type": "code",
   "execution_count": 2,
   "metadata": {},
   "outputs": [],
   "source": [
    "from gillespy2.solvers.numpy import *\n",
    "#BasicODESolver, BasicTauLeapingSolver, NumPySSASolver\n",
    "from gillespy2.solvers.cython import *\n",
    "#CythonSSASolver\n",
    "from gillespy2.solvers.cpp import *\n",
    "#SSACSolver\n",
    "from gillespy2.solvers.auto import *\n",
    "#SSASolver\n",
    "from gillespy2.solvers.stochkit import *\n",
    "#StochKitODESolver, StochKitSolver"
   ]
  },
  {
   "cell_type": "code",
   "execution_count": 3,
   "metadata": {},
   "outputs": [
    {
     "name": "stdout",
     "output_type": "stream",
     "text": [
      "Imported solvers:\n",
      "1:\tNumPySSASolver\n",
      "2:\tBasicODESolver\n",
      "3:\tBasic Tau Leaping Solver\n",
      "4:\tBasic Tau Hybrid Solver\n",
      "5:\tCythonSSASolver\n",
      "6:\tSSACSolver\n",
      "7:\tStochKitSolver\n",
      "8:\tStochKitODESolver\n"
     ]
    }
   ],
   "source": [
    "solvers = []\n",
    "key, value = None, None\n",
    "for key, value in globals().items():\n",
    "    if isinstance(value, type) and issubclass(value, gillespy2.GillesPySolver) and value not in solvers:\n",
    "        solvers.append(value)\n",
    "print('Imported solvers:')\n",
    "for i, solver in enumerate(solvers):\n",
    "    print('{}:\\t{}'.format(i+1, solver.name))"
   ]
  },
  {
   "cell_type": "code",
   "execution_count": 4,
   "metadata": {},
   "outputs": [],
   "source": [
    "import os\n",
    "if 'STOCHKIT_HOME' not in os.environ:\n",
    "    os.environ['STOCHKIT_HOME'] = \"/home/smatthe2/stoch_kit/StochKit\"\n",
    "# print(\"STOCHKIT_HOME =\",os.environ['STOCHKIT_HOME'])"
   ]
  },
  {
   "cell_type": "code",
   "execution_count": null,
   "metadata": {},
   "outputs": [],
   "source": [
    "def __get_results(solver, model, number_of_trajectories):\n",
    "    results = []\n",
    "    for i in tqdm(range(number_of_trajectories), desc='Model: {0}, Solver: {1}'.format(model.name, solver.name)):\n",
    "        result = model.run(solver=solver)\n",
    "        if isinstance(result, dict):\n",
    "            results.append(result)\n",
    "        else:\n",
    "            results.append(result[0])\n",
    "    return results"
   ]
  },
  {
   "cell_type": "code",
   "execution_count": null,
   "metadata": {},
   "outputs": [],
   "source": [
    "def create_distribution(solver, model, number_of_trajectories):\n",
    "    results = __get_results(solver, model, number_of_trajectories)\n",
    "    distribution = {}\n",
    "    for trajectory in results:\n",
    "        for species in trajectory.keys():\n",
    "            if species == 'time': continue;\n",
    "            distribution[species] = []\n",
    "            for timestep in range(len(trajectory[species])):\n",
    "                distribution[species].append([])\n",
    "    trajectory_number = 0\n",
    "    for trajectory in results:\n",
    "        for species in trajectory.keys():\n",
    "            if species == 'time': continue;\n",
    "            for timestep in range(len(trajectory[species])):\n",
    "                distribution[species][timestep].append(trajectory[species][timestep])\n",
    "            \n",
    "    return distribution    "
   ]
  },
  {
   "cell_type": "code",
   "execution_count": null,
   "metadata": {},
   "outputs": [],
   "source": [
    "def get_stats(solver, standard_results, model, number_of_trajectories):\n",
    "    interior_stats = {}\n",
    "    test_results = create_distribution(solver, model, number_of_trajectories)          \n",
    "    for species in test_results:\n",
    "        interior_stats[species] = []\n",
    "    for species in test_results:\n",
    "        for timestep, value in enumerate(test_results[species]):\n",
    "            interior_stats[species].append(stats.ks_2samp(value, standard_results[species][timestep]))\n",
    "    return interior_stats"
   ]
  },
  {
   "cell_type": "code",
   "execution_count": null,
   "metadata": {},
   "outputs": [
    {
     "name": "stderr",
     "output_type": "stream",
     "text": [
      "Model: Example, Solver: StochKitSolver: 100%|██████████| 50/50 [00:05<00:00,  8.13it/s]\n",
      "Model: Example, Solver: NumPySSASolver: 100%|██████████| 50/50 [00:00<00:00, 1058.45it/s]\n",
      "Model: Example, Solver: Basic Tau Leaping Solver: 100%|██████████| 50/50 [00:00<00:00, 331.49it/s]\n",
      "Model: Example, Solver: Basic Tau Hybrid Solver: 100%|██████████| 50/50 [00:00<00:00, 83.02it/s]\n",
      "Model: Example, Solver: CythonSSASolver: 100%|██████████| 50/50 [00:00<00:00, 3548.54it/s]\n",
      "Model: Example, Solver: SSACSolver: 100%|██████████| 50/50 [01:33<00:00,  1.86s/it]\n",
      "Model: Michaelis_Menten, Solver: StochKitSolver: 100%|██████████| 50/50 [00:05<00:00,  8.48it/s]\n",
      "Model: Michaelis_Menten, Solver: NumPySSASolver: 100%|██████████| 50/50 [00:01<00:00, 31.81it/s]\n",
      "Model: Michaelis_Menten, Solver: Basic Tau Leaping Solver: 100%|██████████| 50/50 [00:04<00:00, 11.40it/s]\n",
      "Model: Michaelis_Menten, Solver: Basic Tau Hybrid Solver: 100%|██████████| 50/50 [00:10<00:00,  4.70it/s]\n",
      "Model: Michaelis_Menten, Solver: CythonSSASolver: 100%|██████████| 50/50 [00:00<00:00, 179.58it/s]\n",
      "Model: Michaelis_Menten, Solver: SSACSolver:   4%|▍         | 2/50 [00:03<01:30,  1.88s/it]"
     ]
    }
   ],
   "source": [
    "from gillespy2.example_models import Example, MichaelisMenten\n",
    "standard_results = {}\n",
    "ks_stats = {}\n",
    "\n",
    "number_of_trajectories = 50\n",
    "\n",
    "solver_list = solvers\n",
    "\n",
    "model_list = [Example(), MichaelisMenten()]\n",
    "\n",
    "for model in model_list:\n",
    "    standard_results[model.name] = []\n",
    "    ks_stats[model.name] = {}\n",
    "    \n",
    "for model in model_list:\n",
    "    standard_results[model.name] = create_distribution(StochKitSolver, model, number_of_trajectories)\n",
    "    for solver in solver_list:\n",
    "        if solver in [BasicODESolver, StochKitSolver, StochKitODESolver]:\n",
    "            continue\n",
    "        ks_stats[model.name][solver] = get_stats(solver, standard_results[model.name], model, number_of_trajectories)"
   ]
  },
  {
   "cell_type": "code",
   "execution_count": null,
   "metadata": {
    "scrolled": false
   },
   "outputs": [],
   "source": [
    "for i in range(len(model_list)):\n",
    "    model_name = model_list[i].name\n",
    "\n",
    "    plt.figure(figsize=(18,10))\n",
    "    for solver in solver_list:\n",
    "        if solver in ks_stats[model_name]:\n",
    "            plt.title(\"Error Comparison, model: \" + model_name)\n",
    "            plt.xlabel(\"Timestep\")\n",
    "            #plt.ylabel(\"P-Value\")\n",
    "            plt.ylabel(\"KS distance\")\n",
    "            for species in ks_stats[model_name][solver]:\n",
    "                if species is not 'time':            \n",
    "\n",
    "                    result = ks_stats[model_name][solver][species][:]\n",
    "                    timesteps = []\n",
    "                    p_values = []\n",
    "                    for timestep, value in enumerate(result):\n",
    "                        timesteps.append(timestep)\n",
    "                        ks, pv = value\n",
    "                        p_values.append(ks)\n",
    "                    plt.plot(timesteps, p_values, label='{0}: {1}'.format(solver.name, species))\n",
    "    plt.legend(loc='best')\n",
    "            \n",
    "#             plt.plot(range(len(ks_stats[model_list[0].name][solver][species])), ks_stats[model_list[0].name][solver][species][:], label=solver.name)\n",
    "# plt.legend(loc='best')\n",
    "# for solver in solver_list:\n",
    "#     print('Using Solver: ', solver.name)\n",
    "#     for species in ks_stats[model_list[0].name][solver]:\n",
    "#         if species is not 'time':\n",
    "#             print('Species: ', species)\n",
    "#             for timestep, timestep_result in enumerate(ks_stats[model_list[0].name][solver][species]):\n",
    "#                 print('Timestep ', timestep, ': P-Value: ', timestep_result[1])\n",
    "#                 plt.plot(timestep, timestep_result[1], label=species)\n",
    "    "
   ]
  },
  {
   "cell_type": "code",
   "execution_count": null,
   "metadata": {},
   "outputs": [],
   "source": []
  }
 ],
 "metadata": {
  "kernelspec": {
   "display_name": "Python 3",
   "language": "python",
   "name": "python3"
  },
  "language_info": {
   "codemirror_mode": {
    "name": "ipython",
    "version": 3
   },
   "file_extension": ".py",
   "mimetype": "text/x-python",
   "name": "python",
   "nbconvert_exporter": "python",
   "pygments_lexer": "ipython3",
   "version": "3.6.7"
  }
 },
 "nbformat": 4,
 "nbformat_minor": 2
}