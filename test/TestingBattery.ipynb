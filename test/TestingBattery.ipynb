{
 "cells": [
  {
   "cell_type": "markdown",
   "metadata": {},
   "source": [
    "# Current Testing Battery"
   ]
  },
  {
   "cell_type": "code",
   "execution_count": 1,
   "metadata": {},
   "outputs": [
    {
     "name": "stderr",
     "output_type": "stream",
     "text": [
      "WARNING:root:Unable to use Cython optimized SSA:\n",
      "Error:No module named 'pyximport'\n"
     ]
    }
   ],
   "source": [
    "import sys\n",
    "import statistics\n",
    "import numpy\n",
    "from itertools import product\n",
    "from timeit import default_timer as timer\n",
    "from tqdm import tqdm\n",
    "sys.path.append(\"..\")\n",
    "import gillespy2\n",
    "from scipy import stats"
   ]
  },
  {
   "cell_type": "code",
   "execution_count": 2,
   "metadata": {},
   "outputs": [],
   "source": [
    "from gillespy2.basic_ssa_solver import BasicSSASolver\n",
    "from gillespy2.ssa_c_solver import SSACSolver\n",
    "from gillespy2.basic_root_solver import BasicRootSolver\n",
    "from gillespy2.optimized_ssa_solver import OptimizedSSASolver\n",
    "from gillespy2.example_models import *"
   ]
  },
  {
   "cell_type": "code",
   "execution_count": 3,
   "metadata": {},
   "outputs": [
    {
     "name": "stderr",
     "output_type": "stream",
     "text": [
      "Model: Example, Solver: BasicSSASolver: 100%|██████████| 30/30 [00:01<00:00, 19.13it/s]\n",
      "Model: Example, Solver: SSACSolver: 100%|██████████| 30/30 [00:01<00:00, 15.92it/s]\n",
      "Model: Example, Solver: Basic Root Solver: 100%|██████████| 30/30 [00:01<00:00, 15.08it/s]\n",
      "Model: Example, Solver: CythonSSASolver: 100%|██████████| 30/30 [00:01<00:00, 19.67it/s]\n",
      "Model: Example, Solver: CythonSSASolver: 100%|██████████| 30/30 [00:01<00:00, 19.35it/s]\n",
      "Model: Trichloroethylene, Solver: BasicSSASolver: 100%|██████████| 30/30 [00:03<00:00,  8.01it/s]\n",
      "Model: Trichloroethylene, Solver: SSACSolver: 100%|██████████| 30/30 [00:01<00:00, 16.28it/s]\n",
      "Model: Trichloroethylene, Solver: Basic Root Solver: 100%|██████████| 30/30 [00:38<00:00,  1.28s/it]\n",
      "Model: Trichloroethylene, Solver: CythonSSASolver: 100%|██████████| 30/30 [00:02<00:00, 12.58it/s]\n",
      "Model: Trichloroethylene, Solver: CythonSSASolver: 100%|██████████| 30/30 [00:02<00:00, 13.00it/s]\n",
      "Model: Michaelis_Menten, Solver: BasicSSASolver: 100%|██████████| 30/30 [00:04<00:00,  6.84it/s]\n",
      "Model: Michaelis_Menten, Solver: SSACSolver: 100%|██████████| 30/30 [00:01<00:00, 16.31it/s]\n",
      "Model: Michaelis_Menten, Solver: Basic Root Solver: 100%|██████████| 30/30 [01:06<00:00,  2.22s/it]\n",
      "Model: Michaelis_Menten, Solver: CythonSSASolver: 100%|██████████| 30/30 [00:02<00:00, 10.96it/s]\n",
      "Model: Michaelis_Menten, Solver: CythonSSASolver: 100%|██████████| 30/30 [00:02<00:00, 11.06it/s]\n",
      "Model: Schlogl, Solver: BasicSSASolver: 100%|██████████| 30/30 [00:01<00:00, 15.22it/s]\n",
      "Model: Schlogl, Solver: SSACSolver: 100%|██████████| 30/30 [00:01<00:00, 16.51it/s]\n",
      "Model: Schlogl, Solver: Basic Root Solver: 100%|██████████| 30/30 [00:54<00:00,  1.83s/it]\n",
      "Model: Schlogl, Solver: CythonSSASolver: 100%|██████████| 30/30 [00:01<00:00, 16.97it/s]\n",
      "Model: Schlogl, Solver: CythonSSASolver: 100%|██████████| 30/30 [00:01<00:00, 16.99it/s]\n"
     ]
    }
   ],
   "source": [
    "modelList = [Example(), Trichloroethylene(), MichaelisMenten(), Schlogl()]\n",
    "\n",
    "solverList = [BasicSSASolver, SSACSolver, BasicRootSolver, OptimizedSSASolver, OptimizedSSASolver()]\n",
    "timingList = []\n",
    "\n",
    "precompile_solver = True\n",
    "\n",
    "\n",
    "for model, solver in product(modelList, solverList):\n",
    "    medianList = []\n",
    "    exterior_stats = []\n",
    "    if precompile_solver and (solver == SSACSolver or isinstance(solver, SSACSolver)): #precompile SSACSolver to save time in repated tests\n",
    "        solver = SSACSolver(model)\n",
    "    for i in tqdm(range(30), desc = f'Model: {model.name}, Solver: {solver.name}'):\n",
    "        standard_results = model.run()\n",
    "        start = timer()\n",
    "        test_results = model.run(solver=solver)\n",
    "        stop = timer()\n",
    "        medianList.append(stop-start)\n",
    "        interior_stats = []\n",
    "        for species in standard_results[0].keys():\n",
    "            if solver in [BasicSSASolver, BasicRootSolver]:\n",
    "                interior_stats.append(stats.ks_2samp(standard_results[0][species], test_results[species])[0])\n",
    "            else:\n",
    "                interior_stats.append(stats.ks_2samp(standard_results[0][species], test_results[0][species])[0])\n",
    "                \n",
    "        exterior_stats.append(statistics.median(interior_stats))\n",
    "    median = statistics.median(medianList)\n",
    "    timingList.append([model, solver, median])"
   ]
  },
  {
   "cell_type": "code",
   "execution_count": null,
   "metadata": {},
   "outputs": [],
   "source": []
  }
 ],
 "metadata": {
  "kernelspec": {
   "display_name": "Python 3",
   "language": "python",
   "name": "python3"
  },
  "language_info": {
   "codemirror_mode": {
    "name": "ipython",
    "version": 3
   },
   "file_extension": ".py",
   "mimetype": "text/x-python",
   "name": "python",
   "nbconvert_exporter": "python",
   "pygments_lexer": "ipython3",
   "version": "3.6.4"
  }
 },
 "nbformat": 4,
 "nbformat_minor": 2
}
