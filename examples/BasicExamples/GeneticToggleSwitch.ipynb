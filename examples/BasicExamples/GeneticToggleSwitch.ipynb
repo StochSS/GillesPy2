{
 "cells": [
  {
   "cell_type": "code",
   "execution_count": 1,
   "metadata": {},
   "outputs": [],
   "source": [
    "# %matplotlib\n",
    "# %matplotlib inline\n",
    "import os\n",
    "import numpy\n",
    "import matplotlib.pyplot as plt"
   ]
  },
  {
   "cell_type": "code",
   "execution_count": 2,
   "metadata": {},
   "outputs": [],
   "source": [
    "import sys\n",
    "sys.path.append('../..')"
   ]
  },
  {
   "cell_type": "code",
   "execution_count": 3,
   "metadata": {},
   "outputs": [],
   "source": [
    "import gillespy2\n",
    "class ToggleSwitch(gillespy2.Model):\n",
    "    \"\"\" Gardner et al. Nature (1999)\n",
    "    'Construction of a genetic toggle switch in Escherichia coli'\n",
    "    \"\"\"\n",
    "    def __init__(self, parameter_values=None):\n",
    "        # Initialize the model.\n",
    "        gillespy2.Model.__init__(self, name=\"toggle_switch\")\n",
    "        # Parameters\n",
    "        alpha1 = gillespy2.Parameter(name='alpha1', expression=1)\n",
    "        alpha2 = gillespy2.Parameter(name='alpha2', expression=1)\n",
    "        beta = gillespy2.Parameter(name='beta', expression=\"2.0\")\n",
    "        gamma = gillespy2.Parameter(name='gamma', expression=\"2.0\")\n",
    "        mu = gillespy2.Parameter(name='mu', expression=1.0)\n",
    "        self.add_parameter([alpha1, alpha2, beta, gamma, mu])\n",
    "\n",
    "        # Species\n",
    "        U = gillespy2.Species(name='U', initial_value=10)\n",
    "        V = gillespy2.Species(name='V', initial_value=10)\n",
    "        self.add_species([U, V])\n",
    "\n",
    "        # Reactions\n",
    "        cu = gillespy2.Reaction(name=\"r1\",reactants={}, products={U:1},\n",
    "                propensity_function=\"alpha1/(1+pow(V,beta))\")\n",
    "        cv = gillespy2.Reaction(name=\"r2\",reactants={}, products={V:1},\n",
    "                propensity_function=\"alpha2/(1+pow(U,gamma))\")\n",
    "        du = gillespy2.Reaction(name=\"r3\",reactants={U:1}, products={},\n",
    "                rate=mu)\n",
    "        dv = gillespy2.Reaction(name=\"r4\",reactants={V:1}, products={},\n",
    "                rate=mu)\n",
    "        self.add_reaction([cu,cv,du,dv])\n",
    "        self.timespan(numpy.linspace(0,100,101))"
   ]
  },
  {
   "cell_type": "code",
   "execution_count": 4,
   "metadata": {},
   "outputs": [],
   "source": [
    "model = ToggleSwitch()"
   ]
  },
  {
   "cell_type": "code",
   "execution_count": 5,
   "metadata": {},
   "outputs": [],
   "source": [
    "results = model.run(show_labels=False)"
   ]
  },
  {
   "cell_type": "code",
   "execution_count": 6,
   "metadata": {},
   "outputs": [],
   "source": [
    "# If you have the deterministic solver\n",
    "from gillespy2.solvers.numpy.basic_ode_solver import BasicODESolver\n",
    "dresults = model.run(solver=BasicODESolver, show_labels=False)"
   ]
  },
  {
   "cell_type": "code",
   "execution_count": 7,
   "metadata": {},
   "outputs": [
    {
     "data": {
      "text/plain": [
       "<matplotlib.legend.Legend at 0x7f5f560d7710>"
      ]
     },
     "execution_count": 7,
     "metadata": {},
     "output_type": "execute_result"
    },
    {
     "data": {
      "image/png": "[encoded data removed]",
      "text/plain": [
       "<Figure size 432x288 with 1 Axes>"
      ]
     },
     "metadata": {
      "needs_background": "light"
     },
     "output_type": "display_data"
    }
   ],
   "source": [
    "plt.plot(results[0][:,0],results[0][:,1],'-r', label='U')\n",
    "plt.plot(results[0][:,0],results[0][:,2],'-b', label='V')\n",
    "plt.plot([0],[11])\n",
    "plt.title('Stochastic Switch')\n",
    "plt.legend(loc='best')"
   ]
  },
  {
   "cell_type": "code",
   "execution_count": 8,
   "metadata": {},
   "outputs": [
    {
     "data": {
      "text/plain": [
       "<matplotlib.legend.Legend at 0x7f5f56073278>"
      ]
     },
     "execution_count": 8,
     "metadata": {},
     "output_type": "execute_result"
    },
    {
     "data": {
      "image/png": "[encoded data removed]",
      "text/plain": [
       "<Figure size 432x288 with 1 Axes>"
      ]
     },
     "metadata": {
      "needs_background": "light"
     },
     "output_type": "display_data"
    }
   ],
   "source": [
    "plt.plot(dresults[0][:,0],dresults[0][:,1],'-r', label='U')\n",
    "plt.plot(dresults[0][:,0],dresults[0][:,2],'-b', label='V')\n",
    "plt.plot([0],[11])\n",
    "plt.title('Deterministic Switch')\n",
    "plt.legend(loc='best')"
   ]
  },
  {
   "cell_type": "code",
   "execution_count": null,
   "metadata": {},
   "outputs": [],
   "source": []
  },
  {
   "cell_type": "code",
   "execution_count": null,
   "metadata": {},
   "outputs": [],
   "source": []
  }
 ],
 "metadata": {
  "kernelspec": {
   "display_name": "Python 3",
   "language": "python",
   "name": "python3"
  },
  "language_info": {
   "codemirror_mode": {
    "name": "ipython",
    "version": 3
   },
   "file_extension": ".py",
   "mimetype": "text/x-python",
   "name": "python",
   "nbconvert_exporter": "python",
   "pygments_lexer": "ipython3",
   "version": "3.6.8"
  }
 },
 "nbformat": 4,
 "nbformat_minor": 1
}
