{
 "cells": [
  {
   "cell_type": "code",
   "execution_count": 1,
   "metadata": {},
   "outputs": [],
   "source": [
    "import sys\n",
    "import os\n",
    "import numpy\n",
    "import matplotlib.pyplot as plt\n",
    "sys.path.append(os.path.abspath(os.path.join(os.getcwd(), '../../')))\n",
    "import gillespy2.core.gillespySolver\n",
    "import gillespy2\n",
    "from gillespy2.core.gillespyError import SolverError, DirectoryError, BuildError, ExecutionError\n",
    "from gillespy2.solvers.numpy.ssa_solver import NumPySSASolver"
   ]
  },
  {
   "cell_type": "code",
   "execution_count": 2,
   "metadata": {},
   "outputs": [],
   "source": [
    "import gillespy2\n",
    "class MichaelisMenten(gillespy2.Model):\n",
    "     def __init__(self, parameter_values=None):\n",
    "            #initialize Model\n",
    "            gillespy2.Model.__init__(self, name=\"Michaelis_Menten\")\n",
    "            \n",
    "            #parameters\n",
    "            rate1 = gillespy2.Parameter(name='rate1', expression= 0.0017)\n",
    "            rate2 = gillespy2.Parameter(name='rate2', expression= 0.5)\n",
    "            rate3 = gillespy2.Parameter(name='rate3', expression = 0.1)\n",
    "            self.add_parameter([rate1,rate2,rate3])\n",
    "            \n",
    "            #Species\n",
    "            A = gillespy2.Species(name='A', initial_value=301)\n",
    "            B = gillespy2.Species(name='B', initial_value=120)\n",
    "            C = gillespy2.Species(name='C', initial_value=0)\n",
    "            D = gillespy2.Species(name='D', initial_value=0)\n",
    "            self.add_species([A, B, C, D])\n",
    "            \n",
    "            #reactions\n",
    "            r1 = gillespy2.Reaction(name=\"r1\",reactants={A:1,B:1}, products={C:1},\n",
    "                   rate=rate1)\n",
    "            \n",
    "            r2 = gillespy2.Reaction(name=\"r2\",reactants={C:1}, products={A:1,B:1},\n",
    "                    rate=rate2)\n",
    "            \n",
    "            r3 = gillespy2.Reaction(name=\"r3\",reactants={C:1}, products={B:1,D:1},\n",
    "                    rate=rate3)\n",
    "            self.add_reaction([r1,r2,r3])\n",
    "            self.timespan(numpy.linspace(0,100,101))"
   ]
  },
  {
   "cell_type": "code",
   "execution_count": 3,
   "metadata": {},
   "outputs": [],
   "source": [
    "from gillespy2.solvers.cpp import SSACSolver\n",
    "model = MichaelisMenten()\n",
    "csolver = SSACSolver(model)"
   ]
  },
  {
   "cell_type": "code",
   "execution_count": 4,
   "metadata": {},
   "outputs": [
    {
     "name": "stdout",
     "output_type": "stream",
     "text": [
      "[301. 263. 249. 236. 232. 233. 222. 220. 218. 215. 209. 205. 205. 203.\n",
      " 199. 189. 187. 185. 186. 178. 170. 167. 176. 168. 172. 169. 158. 146.\n",
      " 149. 146. 139. 139. 131. 127. 131. 125. 130. 120. 117. 112. 106. 107.\n",
      " 108. 106. 113. 108.  99.  97.  90.  89.  83.  80.  86.  80.  90.  85.\n",
      "  90.  81.  77.  72.  75.  74.  74.  73.  68.  61.  60.  59.  57.  49.\n",
      "  50.  50.  49.  48.  50.  50.  45.  47.  47.  45.  52.  47.  48.  42.\n",
      "  39.  40.  36.  30.  36.  36.  38.  37.  35.  30.  31.  28.  27.  24.\n",
      "  20.  23.  24.]\n"
     ]
    }
   ],
   "source": [
    "dresults = model.run(solver=csolver, show_labels=True)\n",
    "print(dresults[0]['A'])"
   ]
  },
  {
   "cell_type": "code",
   "execution_count": 5,
   "metadata": {},
   "outputs": [
    {
     "data": {
      "text/plain": [
       "<matplotlib.legend.Legend at 0x7facb21f2978>"
      ]
     },
     "execution_count": 5,
     "metadata": {},
     "output_type": "execute_result"
    },
    {
     "data": {
      "image/png": "[encoded data removed]",
      "text/plain": [
       "<Figure size 432x288 with 1 Axes>"
      ]
     },
     "metadata": {
      "needs_background": "light"
     },
     "output_type": "display_data"
    }
   ],
   "source": [
    "model = MichaelisMenten()\n",
    "results = model.run(show_labels=False)\n",
    "dresults = model.run(solver=csolver, show_labels=False)\n",
    "plt.plot(dresults[0][:,0],dresults[0][:,1],'--r', label='Substrate')\n",
    "plt.plot(dresults[0][:,0],dresults[0][:,4],'--b', label='Product')\n",
    "plt.plot(results[0][:,0],results[0][:,1],'-r', label='Substrate')\n",
    "plt.plot(results[0][:,0],results[0][:,4],'-b', label='Product')\n",
    "plt.plot([0],[11])\n",
    "plt.legend(loc='best')"
   ]
  },
  {
   "cell_type": "code",
   "execution_count": 6,
   "metadata": {},
   "outputs": [
    {
     "ename": "ImportError",
     "evalue": "cannot import name 'ssa_solvers'",
     "output_type": "error",
     "traceback": [
      "\u001b[0;31m---------------------------------------------------------------------------\u001b[0m",
      "\u001b[0;31mImportError\u001b[0m                               Traceback (most recent call last)",
      "\u001b[0;32m<ipython-input-6-b2f71e7b56bb>\u001b[0m in \u001b[0;36m<module>\u001b[0;34m\u001b[0m\n\u001b[1;32m      1\u001b[0m \u001b[0;32mimport\u001b[0m \u001b[0mtime\u001b[0m\u001b[0;34m\u001b[0m\u001b[0;34m\u001b[0m\u001b[0m\n\u001b[0;32m----> 2\u001b[0;31m \u001b[0;32mfrom\u001b[0m \u001b[0mgillespy2\u001b[0m\u001b[0;34m.\u001b[0m\u001b[0msolvers\u001b[0m\u001b[0;34m.\u001b[0m\u001b[0mauto\u001b[0m\u001b[0;34m.\u001b[0m\u001b[0mssa_solver\u001b[0m \u001b[0;32mimport\u001b[0m \u001b[0mSSASolver\u001b[0m\u001b[0;34m,\u001b[0m \u001b[0mssa_solvers\u001b[0m\u001b[0;34m\u001b[0m\u001b[0;34m\u001b[0m\u001b[0m\n\u001b[0m\u001b[1;32m      3\u001b[0m \u001b[0;32mfrom\u001b[0m \u001b[0mgillespy2\u001b[0m\u001b[0;34m.\u001b[0m\u001b[0msolvers\u001b[0m\u001b[0;34m.\u001b[0m\u001b[0mstochkit\u001b[0m \u001b[0;32mimport\u001b[0m \u001b[0mStochKitSolver\u001b[0m\u001b[0;34m\u001b[0m\u001b[0;34m\u001b[0m\u001b[0m\n\u001b[1;32m      4\u001b[0m \u001b[0;32mfrom\u001b[0m \u001b[0mgillespy2\u001b[0m\u001b[0;34m.\u001b[0m\u001b[0msolvers\u001b[0m\u001b[0;34m.\u001b[0m\u001b[0mcpp\u001b[0m \u001b[0;32mimport\u001b[0m \u001b[0mSSACSolver\u001b[0m\u001b[0;34m\u001b[0m\u001b[0;34m\u001b[0m\u001b[0m\n\u001b[1;32m      5\u001b[0m \u001b[0;32mimport\u001b[0m \u001b[0mnumpy\u001b[0m \u001b[0;32mas\u001b[0m \u001b[0mnp\u001b[0m\u001b[0;34m\u001b[0m\u001b[0;34m\u001b[0m\u001b[0m\n",
      "\u001b[0;31mImportError\u001b[0m: cannot import name 'ssa_solvers'"
     ]
    }
   ],
   "source": [
    "import time\n",
    "from gillespy2.solvers.auto.ssa_solver import SSASolver, ssa_solvers\n",
    "from gillespy2.solvers.stochkit import StochKitSolver\n",
    "from gillespy2.solvers.cpp import SSACSolver\n",
    "import numpy as np\n",
    "log2_trajectories_max = 10\n",
    "loops = 100\n",
    "solvers = [StochKitSolver, csolver] #  SSASolver, BasicSSASolver\n",
    "timing_data = np.zeros((log2_trajectories_max+1,len(solvers)+1))\n",
    "for n in range(0,log2_trajectories_max+1):\n",
    "    timing_data[n, 0] = 2**n\n",
    "    for i in range(loops):\n",
    "        for solver in range(len(solvers)):\n",
    "            time_start = time.perf_counter()\n",
    "            model.run(solver=solvers[solver], show_labels=False, number_of_trajectories=2**n)\n",
    "            time_end = time.perf_counter()\n",
    "            timing_data[n, solver+1] += (time_end - time_start)/loops\n",
    "    print(\"{0}:\\tStochKit:{1}\\tSSACSolver:{2}\\tRatio:{3}\".format(timing_data[n,0], timing_data[n,1], timing_data[n, 2], (timing_data[n, 1]/timing_data[n, 2])))"
   ]
  },
  {
   "cell_type": "code",
   "execution_count": null,
   "metadata": {},
   "outputs": [],
   "source": [
    "plt.plot(timing_data[:,0],timing_data[:,1],'-r', label='StochKit')\n",
    "plt.plot(timing_data[:,0],timing_data[:,2],'-b', label='Cython')\n",
    "plt.plot(timing_data[:,0],timing_data[:,3],'-g', label='Numpy')\n",
    "plt.plot(timing_data[:,0],timing_data[:,4],'-k', label='Python')\n",
    "plt.title(\"SSA Simulation Time\")\n",
    "plt.ylabel(\"Seconds\")\n",
    "plt.xlabel(\"Trajectories\")\n",
    "plt.legend(loc='best')\n",
    "plt.savefig(\"SSA_Comparisons3.png\")"
   ]
  },
  {
   "cell_type": "code",
   "execution_count": null,
   "metadata": {},
   "outputs": [],
   "source": []
  },
  {
   "cell_type": "code",
   "execution_count": null,
   "metadata": {},
   "outputs": [],
   "source": []
  }
 ],
 "metadata": {
  "kernelspec": {
   "display_name": "Python 3",
   "language": "python",
   "name": "python3"
  },
  "language_info": {
   "codemirror_mode": {
    "name": "ipython",
    "version": 3
   },
   "file_extension": ".py",
   "mimetype": "text/x-python",
   "name": "python",
   "nbconvert_exporter": "python",
   "pygments_lexer": "ipython3",
   "version": "3.6.8"
  }
 },
 "nbformat": 4,
 "nbformat_minor": 1
}
