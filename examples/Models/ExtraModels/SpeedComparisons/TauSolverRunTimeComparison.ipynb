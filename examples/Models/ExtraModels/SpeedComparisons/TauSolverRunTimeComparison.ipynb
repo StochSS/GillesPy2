{
 "cells": [
  {
   "cell_type": "code",
   "execution_count": 1,
   "metadata": {},
   "outputs": [],
   "source": [
    "# %matplotlib\n",
    "# %matplotlib inline\n",
    "import numpy\n",
    "import matplotlib.pyplot as plt\n",
    "import time"
   ]
  },
  {
   "cell_type": "code",
   "execution_count": 2,
   "metadata": {},
   "outputs": [],
   "source": [
    "import sys\n",
    "import os\n",
    "sys.path.append('../..')\n",
    "sys.path.append(os.path.abspath(os.path.join(os.getcwd(), os.pardir)))"
   ]
  },
  {
   "cell_type": "code",
   "execution_count": 3,
   "metadata": {},
   "outputs": [],
   "source": [
    "import gillespy2\n",
    "from gillespy2 import TauHybridSolver\n",
    "from gillespy2 import NumPySSASolver\n",
    "from gillespy2 import TauLeapingSolver\n"
   ]
  },
  {
   "cell_type": "code",
   "execution_count": 4,
   "metadata": {},
   "outputs": [],
   "source": [
    "class SimpleHybridModel(gillespy2.Model):\n",
    "     def __init__(self, parameter_values=None, init_v=1):\n",
    "            #initialize Model\n",
    "            gillespy2.Model.__init__(self, name=\"Simple_Hybrid_Model\")\n",
    "\n",
    "            \n",
    "            #Species\n",
    "            A = gillespy2.Species(name='A', initial_value=50)\n",
    "            V = gillespy2.Species(name='V', initial_value=init_v)\n",
    "\n",
    "            self.add_species([A, V])\n",
    "            \n",
    "            #parameters\n",
    "            rate1 = gillespy2.Parameter(name='rate1', expression= 20.0)\n",
    "            rate2 = gillespy2.Parameter(name='rate2', expression= 10.0)\n",
    "#             rate_rule1 = gillespy2.RateRule(V, \"cos(t)\")\n",
    "            self.add_parameter([rate1, rate2])\n",
    "#             self.add_rate_rule(rate_rule1)\n",
    "            \n",
    "            #reactions\n",
    "            r1 = gillespy2.Reaction(name=\"r1\",reactants={}, products={A:1},\n",
    "                   propensity_function=\"rate1 * V\")\n",
    "            \n",
    "            r2 = gillespy2.Reaction(name=\"r2\",reactants={A:1}, products={},\n",
    "                    rate=rate2)\n",
    "            \n",
    "            self.add_reaction([r1,r2])\n",
    "            self.timespan(numpy.linspace(0,100, 101))"
   ]
  },
  {
   "cell_type": "code",
   "execution_count": 5,
   "metadata": {},
   "outputs": [],
   "source": [
    "v_range = range(1, 500)\n",
    "def run_test(solver, v_range):\n",
    "    run_data = []\n",
    "    for n in v_range:\n",
    "        model = SimpleHybridModel(init_v=n)\n",
    "        time_start = time.perf_counter()\n",
    "        model.run(solver=solver, show_labels=True)\n",
    "        time_end = time.perf_counter()\n",
    "        run_data.append(time_end-time_start)\n",
    "    return run_data"
   ]
  },
  {
   "cell_type": "code",
   "execution_count": null,
   "metadata": {
    "pycharm": {
     "is_executing": true
    }
   },
   "outputs": [],
   "source": [
    "timing_data = {'basic':[], 'tau':[], 'hybrid_tau':[]}\n",
    "%time timing_data['basic'] = run_test(NumPySSASolver(), v_range)\n",
    "%time timing_data['tau'] = run_test(TauLeapingSolver(), v_range)\n",
    "%time timing_data['hybrid_tau'] = run_test(TauHybridSolver(), v_range)\n",
    "print(timing_data)"
   ]
  },
  {
   "cell_type": "code",
   "execution_count": null,
   "metadata": {
    "pycharm": {
     "is_executing": true
    }
   },
   "outputs": [],
   "source": [
    "plt.figure(figsize=(20,10))\n",
    "plt.title(\"Time Comparison of Solvers\")\n",
    "plt.xlabel(\"initial Value of V (species count)\")\n",
    "plt.ylabel(\"Simulation Run Time (s)\")\n",
    "plt.plot(v_range, timing_data['basic'], label='basic')\n",
    "plt.plot(v_range, timing_data['tau'], label='tau')\n",
    "plt.plot(v_range, timing_data['hybrid_tau'], label='hybrid_tau')\n",
    "plt.legend(loc='best')\n",
    "plt.savefig(\"TimeComparisonOfSolvers.pdf\")"
   ]
  },
  {
   "cell_type": "code",
   "execution_count": null,
   "metadata": {
    "pycharm": {
     "is_executing": true
    }
   },
   "outputs": [],
   "source": [
    "import pickle"
   ]
  },
  {
   "cell_type": "code",
   "execution_count": null,
   "metadata": {
    "pycharm": {
     "is_executing": true
    }
   },
   "outputs": [],
   "source": [
    "file_name = 'time_comparison_data'\n",
    "\n",
    "file_object = open(file_name, 'rb')\n",
    "data = pickle.load(file_object)\n",
    "data.keys()\n",
    "print('TAU RESULTS:\\n', data['tau'])\n",
    "print('HYBRID RESULTS:\\n', data['hybrid_tau'])\n",
    "print('BASIC RESULTS:\\n', data['basic'])"
   ]
  },
  {
   "cell_type": "code",
   "execution_count": null,
   "metadata": {
    "pycharm": {
     "is_executing": true
    }
   },
   "outputs": [],
   "source": [
    "from wand.image import Image as WImage\n",
    "img = WImage(filename='TimeComparisonOfSolvers.pdf')\n",
    "img"
   ]
  },
  {
   "cell_type": "code",
   "execution_count": null,
   "metadata": {
    "pycharm": {
     "is_executing": true
    }
   },
   "outputs": [],
   "source": []
  }
 ],
 "metadata": {
  "kernelspec": {
   "display_name": "Python 3",
   "language": "python",
   "name": "python3"
  },
  "language_info": {
   "codemirror_mode": {
    "name": "ipython",
    "version": 3
   },
   "file_extension": ".py",
   "mimetype": "text/x-python",
   "name": "python",
   "nbconvert_exporter": "python",
   "pygments_lexer": "ipython3",
   "version": "3.6.8"
  }
 },
 "nbformat": 4,
 "nbformat_minor": 2
}