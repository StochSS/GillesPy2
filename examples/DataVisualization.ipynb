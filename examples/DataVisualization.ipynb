{
 "cells": [
  {
   "cell_type": "markdown",
   "metadata": {},
   "source": [
    "# Data Visualization"
   ]
  },
  {
   "cell_type": "markdown",
   "metadata": {},
   "source": [
    "### Imports"
   ]
  },
  {
   "cell_type": "code",
   "execution_count": 1,
   "metadata": {},
   "outputs": [],
   "source": [
    "import sys\n",
    "import os\n",
    "import numpy\n",
    "sys.path.append(os.path.abspath(os.path.join(os.getcwd(), '../')))\n",
    "import gillespy2\n",
    "from gillespy2 import TauHybridSolver"
   ]
  },
  {
   "cell_type": "markdown",
   "metadata": {},
   "source": [
    "### Model Instantiation\n",
    "\n",
    "Model must include rates, species, and reactions"
   ]
  },
  {
   "cell_type": "code",
   "execution_count": null,
   "metadata": {},
   "outputs": [],
   "source": [
    "class MichaelisMenten(gillespy2.Model):\n",
    "     def __init__(self, parameter_values=None):\n",
    "            #initialize Model\n",
    "            gillespy2.Model.__init__(self, name=\"Michaelis_Menten\")\n",
    "            \n",
    "            #parameters\n",
    "            rate1 = gillespy2.Parameter(name='rate1', expression= 0.0017)\n",
    "            rate2 = gillespy2.Parameter(name='rate2', expression= 0.5)\n",
    "            rate3 = gillespy2.Parameter(name='rate3', expression = 0.1)\n",
    "            self.add_parameter([rate1,rate2,rate3])\n",
    "            \n",
    "            #Species\n",
    "            A = gillespy2.Species(name='Substrate', initial_value=301)\n",
    "            B = gillespy2.Species(name='Enzyme', initial_value=120)\n",
    "            C = gillespy2.Species(name='Enzyme_Substrate_Complex', initial_value=0)\n",
    "            D = gillespy2.Species(name='Product', initial_value=0)\n",
    "            self.add_species([A, B, C, D])\n",
    "            \n",
    "            #reactions\n",
    "            r1 = gillespy2.Reaction(name=\"r1\",reactants={A:1,B:1}, products={C:1},\n",
    "                   rate=rate1)\n",
    "            \n",
    "            r2 = gillespy2.Reaction(name=\"r2\",reactants={C:1}, products={A:1,B:1},\n",
    "                    rate=rate2)\n",
    "            \n",
    "            r3 = gillespy2.Reaction(name=\"r3\",reactants={C:1}, products={B:1,D:1},\n",
    "                    rate=rate3)\n",
    "            self.add_reaction([r1,r2,r3])\n",
    "            self.timespan(numpy.linspace(0,100,101))"
   ]
  },
  {
   "cell_type": "code",
   "execution_count": null,
   "metadata": {
    "scrolled": true
   },
   "outputs": [],
   "source": [
    "model = MichaelisMenten()\n"
   ]
  },
  {
   "cell_type": "markdown",
   "metadata": {},
   "source": [
    "### Run Model and plot"
   ]
  },
  {
   "cell_type": "code",
   "execution_count": null,
   "metadata": {
    "scrolled": true
   },
   "outputs": [],
   "source": [
    "%time results = model.run(solver=TauHybridSolver())"
   ]
  },
  {
   "cell_type": "markdown",
   "metadata": {},
   "source": [
    "model.run creates a Results object with a list of Trajectory objects. Results makes use of .plot() to make matplotlib graphs as well as .plotplotly() in order to create more advanced interactable plotly graphs. Plotly graphs can only be displayed in Jupyter Notebooks.\n",
    "\n",
    "To pass an argument to plotly's Layout constructor, simply include it in the call to Results.plotplotly(). See the parameter xaxis_type='log' in the subsequent cell."
   ]
  },
  {
   "cell_type": "code",
   "execution_count": null,
   "metadata": {
    "scrolled": false
   },
   "outputs": [],
   "source": [
    "results.plot(yscale='log',xaxis_label='Custom X Label')"
   ]
  },
  {
   "cell_type": "code",
   "execution_count": null,
   "metadata": {},
   "outputs": [],
   "source": [
    "results.plotplotly(yaxis_type='log')"
   ]
  },
  {
   "cell_type": "markdown",
   "metadata": {},
   "source": [
    "Results.plot() and Results.plotplotly() take optional arguments for custom labels and titles. The included_species_list may be used to limit which species are included in the graph.\n",
    "\n",
    "Additionally, plot() and plot_std_dev_range() (the matplotlib graphers) include the optional figsize keyword which takes a tuple of the form figsize = (width,height).\n",
    "\n",
    "Lastly, plot() has the style keyword which can be used to define which matplotlib style the graph uses. A complete list of possible styles can be found at https://matplotlib.org/3.1.1/gallery/style_sheets/style_sheets_reference.html. "
   ]
  },
  {
   "cell_type": "code",
   "execution_count": null,
   "metadata": {},
   "outputs": [],
   "source": [
    "results.plot(xaxis_label =\"Custom X\", yaxis_label =\"Custom Y\", title = \"Graph with custom labels\", show_legend=True,figsize= (8,8),included_species_list=['Product','Substrate'])"
   ]
  },
  {
   "cell_type": "markdown",
   "metadata": {},
   "source": [
    "plot() also includes the save_png keyword which may be set to True in order to save the matplotlib graph as a png file. plotplotly() does not support the save_png keyword however plotly graphs may be saved inline by clicking on the camera icon in the top right. "
   ]
  },
  {
   "cell_type": "markdown",
   "metadata": {},
   "source": [
    "### Ploting multiple runs \n",
    "\n",
    "The number_of_trajectories specifies how many times you would like to run the solver. When model.run is ran with multiple trajectories, the Results object returned contains a list of all resulting trajectories."
   ]
  },
  {
   "cell_type": "code",
   "execution_count": null,
   "metadata": {},
   "outputs": [],
   "source": [
    "%time results_many_trajectories = model.run(solver=TauHybridSolver(),number_of_trajectories=5)"
   ]
  },
  {
   "cell_type": "markdown",
   "metadata": {},
   "source": [
    "By default, multiple trajectories are displayed in a single graph."
   ]
  },
  {
   "cell_type": "code",
   "execution_count": null,
   "metadata": {
    "scrolled": true
   },
   "outputs": [],
   "source": [
    "results_many_trajectories.plot(title=\"Many trajectories on one plot\")"
   ]
  },
  {
   "cell_type": "code",
   "execution_count": null,
   "metadata": {},
   "outputs": [],
   "source": [
    "results_many_trajectories.plotplotly(title=\"Many trajectories on one plot\")"
   ]
  },
  {
   "cell_type": "markdown",
   "metadata": {},
   "source": [
    "Results can use the average_ensemble function to create a single results dictionary of the average of the trajectories. "
   ]
  },
  {
   "cell_type": "code",
   "execution_count": null,
   "metadata": {},
   "outputs": [],
   "source": [
    "average_results = results_many_trajectories.average_ensemble()\n",
    "average_results.plot(title=\"The average of those trajectories\")"
   ]
  },
  {
   "cell_type": "markdown",
   "metadata": {},
   "source": [
    "Results can use the stddev_results function to create a single results dictionary of the standard deviation of the trajectories. "
   ]
  },
  {
   "cell_type": "code",
   "execution_count": null,
   "metadata": {},
   "outputs": [],
   "source": [
    "stddev_results = results_many_trajectories.stddev_ensemble()\n",
    "stddev_results.plot(title=\"The standard deviation of trajectories for each time\")"
   ]
  },
  {
   "cell_type": "markdown",
   "metadata": {},
   "source": [
    "Standard deviation range and mean may be visualized with the plot_std_dev_range() and plotplotly_std_dev_range() as well as using plotplotly_mean_stdev and plot_mean_stdev"
   ]
  },
  {
   "cell_type": "code",
   "execution_count": null,
   "metadata": {},
   "outputs": [],
   "source": [
    "results_many_trajectories.plot_std_dev_range()\n"
   ]
  },
  {
   "cell_type": "code",
   "execution_count": null,
   "metadata": {},
   "outputs": [],
   "source": [
    "results_many_trajectories.plotplotly_std_dev_range()"
   ]
  },
  {
   "cell_type": "code",
   "execution_count": null,
   "metadata": {},
   "outputs": [],
   "source": [
    "results_many_trajectories.plot_mean_stdev()"
   ]
  },
  {
   "cell_type": "code",
   "execution_count": null,
   "metadata": {},
   "outputs": [],
   "source": [
    "results_many_trajectories.plotplotly_mean_stdev()"
   ]
  },
  {
   "cell_type": "markdown",
   "metadata": {},
   "source": [
    "Results objects are lists of Trajectory objects, which are dictionaries containing lists of species population data. Data from the first Trajectory in the list may be accessed directly from the Results object. Custom plots may be created using matplotlib as in the example below."
   ]
  },
  {
   "cell_type": "code",
   "execution_count": null,
   "metadata": {
    "pycharm": {
     "name": "#%%\n"
    }
   },
   "outputs": [],
   "source": [
    "import matplotlib.pyplot as plt\n",
    "\n",
    "plt.figure(figsize=(18,10))\n",
    "plt.title(\"Michaelis-Menten: Tau Hybrid Solver\")\n",
    "plt.xlabel(\"Time\")\n",
    "plt.ylabel(\"Population\")\n",
    "plt.plot(results['time'],results['Substrate'],'r', label='Substrate')\n",
    "plt.plot(results['time'],results['Enzyme'],'y', label='Enzyme')\n",
    "plt.plot(results['time'],results['Enzyme_Substrate_Complex'],'g', label='Enzyme-Substrate Complex')\n",
    "plt.plot(results['time'],results['Product'],'b', label='Product')\n",
    "plt.plot([0],[11])\n",
    "plt.legend(loc='best')\n",
    "\n"
   ]
  },
  {
   "cell_type": "markdown",
   "metadata": {},
   "source": [
    "### A more complete list of arguments for each of the above methods can be found [in the documentation](https://stochss.github.io/GillesPy2/classes/gillespy2.core.html#gillespy2.core.results.Results)."
   ]
  }
 ],
 "metadata": {
  "kernelspec": {
   "display_name": "Python 3 (ipykernel)",
   "language": "python",
   "name": "python3"
  },
  "language_info": {
   "codemirror_mode": {
    "name": "ipython",
    "version": 3
   },
   "file_extension": ".py",
   "mimetype": "text/x-python",
   "name": "python",
   "nbconvert_exporter": "python",
   "pygments_lexer": "ipython3",
   "version": "3.9.7"
  }
 },
 "nbformat": 4,
 "nbformat_minor": 2
}
