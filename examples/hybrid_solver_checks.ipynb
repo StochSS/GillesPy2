{
 "cells": [
  {
   "cell_type": "code",
   "execution_count": 1,
   "metadata": {},
   "outputs": [
    {
     "name": "stdout",
     "output_type": "stream",
     "text": [
      "Using matplotlib backend: Qt5Agg\n"
     ]
    }
   ],
   "source": [
    "import sys\n",
    "import os\n",
    "sys.path.append(os.path.abspath(os.path.join(os.getcwd(), os.pardir)))\n",
    "%matplotlib\n",
    "%matplotlib inline\n",
    "import numpy\n",
    "import matplotlib.pyplot as plt\n",
    "from scipy.integrate import odeint\n",
    "import math\n",
    "import random"
   ]
  },
  {
   "cell_type": "code",
   "execution_count": 2,
   "metadata": {},
   "outputs": [
    {
     "name": "stdout",
     "output_type": "stream",
     "text": [
      "Unable to use Cython optimized SSA:\n",
      "Error:Building module gillespy2.cython_ssa_solver failed: ['distutils.errors.DistutilsPlatformError: Unable to find vcvarsall.bat\\n']\n"
     ]
    }
   ],
   "source": [
    "import gillespy2\n",
    "from gillespy2.basic_root_solver import BasicRootSolver\n",
    "from gillespy2.basic_ssa_solver import BasicSSASolver\n",
    "from gillespy2.basic_hybrid_solver import BasicHybridSolver"
   ]
  },
  {
   "cell_type": "code",
   "execution_count": 3,
   "metadata": {},
   "outputs": [],
   "source": [
    "class MichaelisMenten(gillespy2.Model):\n",
    "     def __init__(self, parameter_values=None):\n",
    "            #initialize Model\n",
    "            gillespy2.Model.__init__(self, name=\"Michaelis_Menten\")\n",
    "            \n",
    "            #parameters\n",
    "            rate1 = gillespy2.Parameter(name='rate1', expression= 0.000017)\n",
    "            rate2 = gillespy2.Parameter(name='rate2', expression= 0.005)\n",
    "            rate3 = gillespy2.Parameter(name='rate3', expression = 0.001)\n",
    "            self.add_parameter([rate1,rate2,rate3])\n",
    "            \n",
    "            #rate_rules\n",
    "            rate_rule1 = gillespy2.RateRule(name='rate_rule1', expression = \"math.sin(t)\")\n",
    "            self.add_rate_rule(rate_rule1)\n",
    "            \n",
    "            #Species\n",
    "            A = gillespy2.Species(name='A', initial_value=100)\n",
    "            B = gillespy2.Species(name='B', initial_value=100)\n",
    "            C = gillespy2.Species(name='C', initial_value=100)\n",
    "            D = gillespy2.Species(name='D', initial_value=100)\n",
    "            #DET = gillespy2.Species(name='DET', initial_value=1) #Create a deterministic species\n",
    "            #Deterministic species will be a regular species, but with \"deterministic\" flag\n",
    "            DET = gillespy2.Species(name='DET', initial_value=1, deterministic=True, rate_rule=rate_rule1)\n",
    "            self.add_species([A, B, C, D, DET])\n",
    "            \n",
    "            #reactions\n",
    "            r1 = gillespy2.Reaction(name=\"r1\",reactants={A:1,B:1}, products={C:1},\n",
    "                   rate=rate1)\n",
    "            \n",
    "            r2 = gillespy2.Reaction(name=\"r2\",reactants={C:1}, products={A:1,B:1},\n",
    "                    rate=rate2)\n",
    "            \n",
    "            r3 = gillespy2.Reaction(name=\"r3\",reactants={C:1}, products={B:1,D:1},\n",
    "                    rate=rate3)\n",
    "            r4 = gillespy2.Reaction(name=\"r4\", propensity_function=\"rate2*A*DET/vol\")\n",
    "            #r4 uses a deterministic species result as an argument\n",
    "            self.add_reaction([r1,r2,r3, r4])\n",
    "            self.timespan(numpy.linspace(0,100,101))"
   ]
  },
  {
   "cell_type": "code",
   "execution_count": 4,
   "metadata": {},
   "outputs": [],
   "source": [
    "model = MichaelisMenten()"
   ]
  },
  {
   "cell_type": "code",
   "execution_count": 5,
   "metadata": {},
   "outputs": [],
   "source": [
    "def func(y, t, pops, species, parameters, reactions, rate_rules):\n",
    "    curr_state = {'vol':1}\n",
    "    state_change = []\n",
    "    for i, s in enumerate(species):\n",
    "        curr_state[s] = pops[i]\n",
    "        if model.listOfSpecies[s].deterministic:\n",
    "            curr_state[s] = y[i]\n",
    "    #curr_state['DET'] = y[4] #Override population for deterministic species with current pop\n",
    "    #this will require knowing the index of the deterministic species in y\n",
    "    for p in parameters:\n",
    "        curr_state[p] = parameters[p].value\n",
    "    for i, r in enumerate(reactions):\n",
    "        state_change.append(eval(reactions[r].propensity_function, curr_state))\n",
    "    for i, rr in enumerate(rate_rules):\n",
    "        state_change.append(eval(rate_rules[rr].expression))\n",
    "    #state_change.append(eval(\"math.sin(t)\"))  #This is the deterministic rate (RateRules) to append in a loop\n",
    "    return state_change"
   ]
  },
  {
   "cell_type": "code",
   "execution_count": 6,
   "metadata": {},
   "outputs": [
    {
     "name": "stdout",
     "output_type": "stream",
     "text": [
      "rate1*A*B/vol\n",
      "rate2*C\n",
      "rate3*C\n",
      "rate2*A*DET/vol\n",
      "math.sin(t)\n"
     ]
    }
   ],
   "source": [
    "for i, r in enumerate(model.listOfReactions):\n",
    "    print(model.listOfReactions[r].propensity_function)\n",
    "for i, rr in enumerate(model.listOfRateRules):\n",
    "    print(model.listOfRateRules[rr].expression)"
   ]
  },
  {
   "cell_type": "code",
   "execution_count": 7,
   "metadata": {},
   "outputs": [],
   "source": [
    "t = numpy.linspace(0, .1, 11)\n",
    "num_deterministic = 0\n",
    "for i, s in enumerate(model.listOfSpecies):\n",
    "    if model.listOfSpecies[s].deterministic:\n",
    "        num_deterministic += 1\n",
    "y0 = [0] * (len(model.listOfReactions)+num_deterministic) # +1 for deterministic species\n",
    "#HERE, we will add +num_det_species which will be collected at species creation\n",
    "populations = []\n",
    "propensities = {}\n",
    "curr_state = {}\n",
    "curr_time = 0\n",
    "curr_state['vol'] = 1\n",
    "save_time = 0\n",
    "end_time = t[-1]\n",
    "results = {'time': []}\n",
    "test_count = 0\n",
    "\n",
    "\n",
    "for s in model.listOfSpecies:\n",
    "    # initialize populations\n",
    "    populations.append(model.listOfSpecies[s].initial_value)\n",
    "    curr_state[s] = model.listOfSpecies[s].initial_value\n",
    "    results[s] = []\n",
    "\n",
    "for p in model.listOfParameters:\n",
    "    curr_state[p] = model.listOfParameters[p].value\n",
    "\n",
    "#print(curr_time)\n",
    "#print(end_time)\n",
    "#while curr_time < end_time:\n",
    "test_count += 1\n",
    "propensity_sum = 0\n",
    "for i, r in enumerate(model.listOfReactions):\n",
    "    y0[i] = (math.log(random.uniform(0, 1)))\n",
    "    propensities[r] = eval(model.listOfReactions[r].propensity_function, curr_state)\n",
    "    propensity_sum += propensities[r]\n",
    "#y0[4] = 1 #Get value of deterministic species\n",
    "#First time, sets to initial value, after that...curr_state? \n",
    "#This would be a for loop capturing all deterministic species\n",
    "for i, s in enumerate(model.listOfSpecies):\n",
    "    if model.listOfSpecies[s].deterministic:\n",
    "        y0[i] = curr_state[s]\n",
    "if propensity_sum <= 0:\n",
    "    while save_time <= end_time:\n",
    "        results['time'].append(save_time)\n",
    "        for s in model.listOfSpecies:\n",
    "            results[s].append(curr_state[s])\n",
    "        save_time += increment"
   ]
  },
  {
   "cell_type": "code",
   "execution_count": 8,
   "metadata": {},
   "outputs": [
    {
     "name": "stdout",
     "output_type": "stream",
     "text": [
      "[-0.5535725952886762, -0.45869068124381174, -0.16781891204225652, -0.4744414890864605, 1]\n"
     ]
    }
   ],
   "source": [
    "print(y0)\n",
    "t2= numpy.linspace(0, 10, 101)"
   ]
  },
  {
   "cell_type": "code",
   "execution_count": 9,
   "metadata": {},
   "outputs": [],
   "source": [
    "y = odeint(func, y0, t2, args=(populations, model.listOfSpecies, model.listOfParameters, model.listOfReactions, model.listOfRateRules))"
   ]
  },
  {
   "cell_type": "code",
   "execution_count": 10,
   "metadata": {},
   "outputs": [],
   "source": [
    "rx1 = y[:,0]\n",
    "rx2 = y[:,1]\n",
    "rx3 = y[:,2]\n",
    "rx4 = y[:,3] # Reaction including Deterministic Species\n",
    "det = y[:,4] # Determinisitc Species"
   ]
  },
  {
   "cell_type": "code",
   "execution_count": 11,
   "metadata": {
    "scrolled": true
   },
   "outputs": [
    {
     "data": {
      "text/plain": [
       "<matplotlib.legend.Legend at 0x1f432ed5be0>"
      ]
     },
     "execution_count": 11,
     "metadata": {},
     "output_type": "execute_result"
    },
    {
     "data": {
      "image/png": "[encoded data removed]",
      "text/plain": [
       "<matplotlib.figure.Figure at 0x1f432e14cc0>"
      ]
     },
     "metadata": {},
     "output_type": "display_data"
    }
   ],
   "source": [
    "plt.plot(t2, rx1, label=\"Reaction 1\")\n",
    "plt.plot(t2, rx2, label=\"Reaction 2\")\n",
    "plt.plot(t2, rx3, label=\"Reaction 3\")\n",
    "plt.plot(t2, rx4, label=\"Reaction 4\")\n",
    "plt.plot(t2, det, label=\"det\")\n",
    "plt.legend(loc=\"best\")"
   ]
  },
  {
   "cell_type": "code",
   "execution_count": 12,
   "metadata": {},
   "outputs": [
    {
     "name": "stdout",
     "output_type": "stream",
     "text": [
      "['r4', 0.007802333168008624]\n",
      "['r3', 0.12241745233948931]\n",
      "['r1', 1.2108005382527804]\n",
      "['r4', 0.45969769794480786]\n",
      "['r2', 0.12241745233948931]\n",
      "['r2', 1.416145477130298]\n",
      "['r2', 0.12241745233948932]\n",
      "['r2', 1.4161454771302975]\n",
      "['r3', 1.4161454771302975]\n",
      "['r1', 0.45969769794480786]\n",
      "['r4', 1.4161454771302975]\n",
      "['r4', 0.12241745233948932]\n",
      "['r4', 0.9292623646634561]\n",
      "['r4', 0.22716519704707078]\n",
      "['r2', 1.4161454771302975]\n",
      "['r2', 0.007802333168008624]\n",
      "['r1', 0.2683111623819755]\n",
      "['r4', 1.0541765896051334]\n",
      "['r1', 1.9899917172237502]\n",
      "['r2', 1.4161454771302975]\n",
      "['r4', 0.45969769794480797]\n",
      "['r2', 1.4161454771302975]\n",
      "['r4', 0.0310875813335248]\n",
      "['r4', 1.4161454771302975]\n",
      "['r4', 0.17115171252592062]\n",
      "['r2', 1.6536494924796663]\n",
      "['r2', 0.12241745233948931]\n",
      "['r4', 1.4161454771303015]\n",
      "['r1', 1.4161454771302975]\n",
      "['r2', 0.12241745233948931]\n",
      "['r2', 1.4161454771302975]\n",
      "['r4', 1.4161454771302975]\n",
      "['r2', 0.12241745233948935]\n",
      "['r1', 0.12241745233948932]\n",
      "['r4', 0.12241745233948931]\n",
      "['r2', 1.4161454771303015]\n",
      "['r4', 0.007802333168008624]\n",
      "['r2', 0.9292623646634561]\n",
      "['r2', 0.12241745233948931]\n",
      "['r1', 1.4161454771302975]\n",
      "['r4', 1.8011419616437625]\n",
      "['r2', 0.007802333168008624]\n",
      "['r4', 1.4161454771302977]\n",
      "['r1', 0.0860848382750086]\n",
      "['r1', 0.12241745233948931]\n",
      "['r2', 1.0210265320483838]\n",
      "['r4', 0.45969769794480786]\n",
      "['r1', 1.4161454771303015]\n",
      "['r4', 1.4161454771302975]\n",
      "['r2', 1.4161454771302975]\n",
      "['r1', 0.12241745233948932]\n",
      "['r4', 1.4161454771302975]\n",
      "['r3', 1.4161454771302975]\n",
      "['r2', 0.12241745233948931]\n",
      "['r4', 0.12241745233948932]\n",
      "['r4', 0.12241745233948932]\n",
      "['r3', 1.4161454771302975]\n",
      "['r4', 0.45969769794480786]\n",
      "['r2', 0.12241745233948931]\n",
      "['r2', 0.0694923883594462]\n",
      "['r1', 0.45969769794480797]\n",
      "['r2', 1.9899917172237507]\n",
      "['r4', 0.007802333168008624]\n",
      "['r4', 0.12241745233948932]\n",
      "['r2', 0.12241745233948931]\n",
      "['r4', 0.12241745233948932]\n",
      "['r4', 1.4161454771303132]\n",
      "['r2', 0.45969769794480786]\n",
      "['r4', 1.4161454771303132]\n",
      "['r3', 0.9292623646634561]\n",
      "['r4', 0.12241745233948931]\n",
      "['r1', 0.2683111623819756]\n",
      "['r1', 1.4161454771302975]\n",
      "['r4', 1.6536494924796663]\n",
      "['r4', 0.12241745233948931]\n",
      "['r2', 0.12241745233948931]\n",
      "['r4', 1.4161454771302975]\n",
      "['r2', 0.12241745233948931]\n",
      "['r4', 0.12241745233948935]\n",
      "['r4', 0.4081952823588582]\n",
      "['r2', 0.12241745233948932]\n",
      "['r1', 1.4161454771302975]\n",
      "['r2', 0.9292623646634561]\n",
      "['r1', 0.12241745233948931]\n",
      "['r2', 0.12241745233948938]\n",
      "['r2', 0.12241745233948931]\n",
      "['r4', 0.12241745233948931]\n",
      "['r2', 1.4161454771302975]\n",
      "['r4', 1.4161454771302975]\n",
      "['r1', 1.4161454771303015]\n",
      "['r4', 0.12241745233948931]\n",
      "['r4', 0.5133103206839671]\n",
      "['r2', 1.4161454771302975]\n",
      "['r4', 0.12241745233948931]\n",
      "['r2', 1.4161454771302975]\n",
      "['r2', 1.4161454771302975]\n",
      "['r2', 0.031087581333524798]\n",
      "['r4', 0.5688237067399854]\n",
      "['r2', 0.12241745233948932]\n",
      "['r4', 1.9899917172237502]\n",
      "['r4', 0.12241745233948932]\n",
      "['r4', 1.4161454771302975]\n",
      "['r4', 0.12241745233948931]\n",
      "['r4', 1.4161454771303015]\n",
      "['r2', 0.12241745233948932]\n",
      "['r2', 1.4161454771302975]\n",
      "['r2', 1.4161454771302975]\n",
      "['r4', 1.4161454771303015]\n",
      "['r4', 1.4161454771302975]\n",
      "['r4', 0.45969769794480786]\n",
      "['r4', 0.12241745233948931]\n",
      "['r1', 1.4161454771302975]\n",
      "['r1', 0.12241745233948931]\n",
      "['r1', 0.12241745233948935]\n",
      "['r2', 0.031087581333524798]\n",
      "['r3', 1.4161454771302975]\n",
      "['r1', 1.9899917172237502]\n",
      "['r4', 0.18903680685227384]\n",
      "['r1', 1.4161454771302975]\n",
      "['r4', 0.12241745233948931]\n",
      "['r1', 0.12241745233948931]\n",
      "['r4', 0.45969769794480786]\n",
      "['r4', 1.4161454771302975]\n",
      "['r4', 1.4161454771302975]\n",
      "['r1', 1.4161454771303015]\n",
      "['r4', 1.4161454771302975]\n",
      "['r4', 1.4161454771303015]\n",
      "['r2', 0.45969769794480786]\n",
      "['r2', 0.12241745233948932]\n",
      "['r1', 1.4161454771302975]\n",
      "['r2', 0.12241745233948934]\n",
      "['r2', 1.4161454771302977]\n",
      "{'time': [0.09273665946334841, 4.882691105531245, 4.882691105531245, 4.882691105531245, 4.882691105531245, 5.803979803121502, 6.144728073563553, 8.650382200992818, 8.650382200992818, 9.479801267418464, 11.291138448197438, 11.291138448197438, 12.898585085085795, 13.569801390860864, 14.720809426605738, 15.365245404859058, 16.917790567001507, 19.100818164076145, 19.100818164076145, 19.100818164076145, 20.062503255994827, 21.559568070572706, 23.552064471406005, 23.552064471406005, 24.12687408289672, 27.483149740590488, 27.483149740590488, 27.483149740590488, 28.042392083930018, 29.074958145214737, 30.952657868072738, 31.21579064925696, 32.10104874739114, 33.206169963849824, 36.35221804814113, 36.35221804814113, 36.35221804814113, 37.295650432354, 45.48648630363287, 45.48648630363287, 45.48648630363287, 45.48648630363287, 45.48648630363287, 45.48648630363287, 45.48648630363287, 45.48648630363287, 46.367823626382005, 47.423750121833535, 48.065552268299726, 49.56257618673123, 50.181331777388145, 51.58058599914464, 52.31824259671308, 53.14815196609673, 55.20137300991219, 55.20137300991219, 56.0366165604581, 57.012559061156665, 58.19589311517368, 59.04540408107558, 63.07892146148375, 63.07892146148375, 63.07892146148375, 63.07892146148375, 64.60254499762584, 65.91002215395325, 66.16995462687709, 67.37242771294945, 68.21035827107097, 70.13417481623321, 70.13417481623321, 71.96541098856406, 72.8297069601647, 73.25873365367548, 75.16404499284357, 75.16404499284357, 76.47066271256813, 79.72140309267328, 79.72140309267328, 79.72140309267328, 80.7574291508385, 81.0143828847201, 83.55789518915135, 83.55789518915135, 84.14248879456582, 85.16092228330805, 86.8969535084502, 87.19529347244, 89.20732949080768, 89.20732949080768, 92.16742469006368, 92.16742469006368, 92.16742469006368, 93.2470415238768, 94.94392659245739, 96.24848684539758, 96.24848684539758, 97.32986595259267, 98.0608034565225, 99.46743038869766], 'A': [100, 100, 100, 100, 100, 99, 99, 103, 103, 103, 102, 102, 102, 102, 102, 104, 103, 103, 103, 103, 102, 103, 104, 104, 104, 104, 104, 104, 106, 105, 106, 107, 108, 108, 109, 109, 109, 110, 108, 108, 108, 108, 108, 108, 108, 108, 109, 108, 108, 108, 109, 109, 109, 111, 110, 110, 112, 113, 113, 113, 111, 111, 111, 111, 112, 113, 113, 113, 114, 115, 115, 115, 115, 116, 117, 117, 119, 120, 120, 120, 120, 120, 122, 122, 123, 123, 123, 122, 121, 121, 121, 121, 121, 119, 118, 118, 118, 118, 117, 117], 'B': [100, 101, 101, 101, 101, 100, 100, 104, 104, 105, 104, 104, 104, 104, 104, 106, 105, 105, 105, 105, 104, 105, 106, 106, 106, 106, 106, 106, 108, 107, 108, 109, 110, 110, 111, 111, 111, 112, 110, 110, 110, 110, 110, 110, 110, 110, 111, 110, 110, 110, 112, 112, 113, 115, 114, 114, 116, 117, 117, 118, 116, 116, 116, 116, 117, 118, 118, 118, 119, 120, 120, 120, 120, 121, 122, 122, 124, 125, 125, 125, 125, 125, 127, 127, 128, 128, 128, 127, 126, 126, 127, 127, 127, 125, 124, 124, 124, 124, 123, 123], 'C': [100, 99, 99, 99, 99, 100, 100, 96, 96, 95, 96, 96, 96, 96, 96, 94, 95, 95, 95, 95, 96, 95, 94, 94, 94, 94, 94, 94, 92, 93, 92, 91, 90, 90, 89, 89, 89, 88, 90, 90, 90, 90, 90, 90, 90, 90, 89, 90, 90, 90, 88, 88, 87, 85, 86, 86, 84, 83, 83, 82, 84, 84, 84, 84, 83, 82, 82, 82, 81, 80, 80, 80, 80, 79, 78, 78, 76, 75, 75, 75, 75, 75, 73, 73, 72, 72, 72, 73, 74, 74, 73, 73, 73, 75, 76, 76, 76, 76, 77, 77], 'D': [100, 101, 101, 101, 101, 101, 101, 101, 101, 102, 102, 102, 102, 102, 102, 102, 102, 102, 102, 102, 102, 102, 102, 102, 102, 102, 102, 102, 102, 102, 102, 102, 102, 102, 102, 102, 102, 102, 102, 102, 102, 102, 102, 102, 102, 102, 102, 102, 102, 102, 103, 103, 104, 104, 104, 104, 104, 104, 104, 105, 105, 105, 105, 105, 105, 105, 105, 105, 105, 105, 105, 105, 105, 105, 105, 105, 105, 105, 105, 105, 105, 105, 105, 105, 105, 105, 105, 105, 105, 105, 106, 106, 106, 106, 106, 106, 106, 106, 106, 106], 'DET': [0.007802333168008624, 1.2108005382527804, 1.2108005382527804, 1.2108005382527804, 1.2108005382527804, 0.45969769794480786, 0.12241745233948931, 1.4161454771302975, 1.4161454771302975, 0.45969769794480786, 1.4161454771302975, 1.4161454771302975, 0.9292623646634561, 0.22716519704707078, 1.4161454771302975, 0.2683111623819755, 1.0541765896051334, 1.9899917172237502, 1.9899917172237502, 1.9899917172237502, 1.4161454771302975, 1.4161454771302975, 1.4161454771302975, 1.4161454771302975, 0.17115171252592062, 1.6536494924796663, 1.6536494924796663, 1.6536494924796663, 1.4161454771303015, 0.12241745233948931, 1.4161454771302975, 1.4161454771302975, 0.007802333168008624, 0.9292623646634561, 1.8011419616437625, 1.8011419616437625, 1.8011419616437625, 0.0860848382750086, 1.0210265320483838, 1.0210265320483838, 1.0210265320483838, 1.0210265320483838, 1.0210265320483838, 1.0210265320483838, 1.0210265320483838, 1.0210265320483838, 0.45969769794480786, 1.4161454771302975, 1.4161454771302975, 1.4161454771302975, 0.12241745233948932, 1.4161454771302975, 0.45969769794480786, 0.45969769794480797, 1.9899917172237507, 1.9899917172237507, 1.4161454771303132, 1.4161454771303132, 0.9292623646634561, 0.2683111623819756, 1.6536494924796663, 1.6536494924796663, 1.6536494924796663, 1.6536494924796663, 1.4161454771302975, 0.4081952823588582, 0.12241745233948932, 0.9292623646634561, 0.12241745233948931, 1.4161454771302975, 1.4161454771302975, 0.5133103206839671, 1.4161454771302975, 0.12241745233948931, 1.4161454771302975, 1.4161454771302975, 0.5688237067399854, 1.9899917172237502, 1.9899917172237502, 1.9899917172237502, 1.4161454771302975, 0.12241745233948931, 1.4161454771302975, 1.4161454771302975, 1.4161454771303015, 0.12241745233948931, 1.4161454771302975, 0.12241745233948931, 1.4161454771302975, 1.4161454771302975, 1.9899917172237502, 1.9899917172237502, 1.9899917172237502, 0.12241745233948931, 1.4161454771302975, 1.4161454771302975, 1.4161454771302975, 1.4161454771303015, 1.4161454771302975, 0.45969769794480786]}\n"
     ]
    }
   ],
   "source": [
    "results = model.run(solver=BasicHybridSolver(), show_labels=True)\n",
    "print(results)"
   ]
  },
  {
   "cell_type": "code",
   "execution_count": 13,
   "metadata": {},
   "outputs": [
    {
     "data": {
      "text/plain": [
       "<matplotlib.legend.Legend at 0x1f4331c6198>"
      ]
     },
     "execution_count": 13,
     "metadata": {},
     "output_type": "execute_result"
    },
    {
     "data": {
      "image/png": "[encoded data removed]",
      "text/plain": [
       "<matplotlib.figure.Figure at 0x1f432f2d908>"
      ]
     },
     "metadata": {},
     "output_type": "display_data"
    }
   ],
   "source": [
    "plt.plot(results['time'], results['A'], label='A')\n",
    "plt.plot(results['time'], results['B'], label='B')\n",
    "plt.plot(results['time'], results['C'], label='C')\n",
    "plt.plot(results['time'], results['D'], label='D')\n",
    "plt.plot(results['time'], results['DET'], label='DET')\n",
    "plt.legend(loc='best')"
   ]
  },
  {
   "cell_type": "code",
   "execution_count": 14,
   "metadata": {},
   "outputs": [],
   "source": [
    "results1 = model.run(solver=BasicRootSolver(), show_labels=True)"
   ]
  },
  {
   "cell_type": "code",
   "execution_count": 15,
   "metadata": {},
   "outputs": [
    {
     "data": {
      "text/plain": [
       "[<matplotlib.lines.Line2D at 0x1f433245ef0>]"
      ]
     },
     "execution_count": 15,
     "metadata": {},
     "output_type": "execute_result"
    },
    {
     "data": {
      "image/png": "[encoded data removed]",
      "text/plain": [
       "<matplotlib.figure.Figure at 0x1f4331fb390>"
      ]
     },
     "metadata": {},
     "output_type": "display_data"
    }
   ],
   "source": [
    "plt.plot(results1['time'], results1['A'])\n",
    "plt.plot(results1['time'], results1['B'])\n",
    "plt.plot(results1['time'], results1['C'])\n",
    "plt.plot(results1['time'], results1['D'])"
   ]
  },
  {
   "cell_type": "code",
   "execution_count": null,
   "metadata": {},
   "outputs": [],
   "source": []
  }
 ],
 "metadata": {
  "kernelspec": {
   "display_name": "Python 3",
   "language": "python",
   "name": "python3"
  },
  "language_info": {
   "codemirror_mode": {
    "name": "ipython",
    "version": 3
   },
   "file_extension": ".py",
   "mimetype": "text/x-python",
   "name": "python",
   "nbconvert_exporter": "python",
   "pygments_lexer": "ipython3",
   "version": "3.6.4"
  }
 },
 "nbformat": 4,
 "nbformat_minor": 2
}
