{
 "cells": [
  {
   "cell_type": "code",
   "execution_count": 1,
   "metadata": {},
   "outputs": [
    {
     "name": "stdout",
     "output_type": "stream",
     "text": [
      "Using matplotlib backend: MacOSX\n"
     ]
    }
   ],
   "source": [
    "import sys\n",
    "import os\n",
    "sys.path.append(os.path.abspath(os.path.join(os.getcwd(), os.pardir)))\n",
    "%matplotlib\n",
    "%matplotlib inline\n",
    "import numpy\n",
    "import matplotlib.pyplot as plt\n",
    "from scipy.integrate import odeint\n",
    "import math\n",
    "import random"
   ]
  },
  {
   "cell_type": "code",
   "execution_count": 2,
   "metadata": {},
   "outputs": [
    {
     "name": "stdout",
     "output_type": "stream",
     "text": [
      "Unable to use Cython optimized SSA:\n",
      "Error:No module named 'pyximport'\n"
     ]
    }
   ],
   "source": [
    "import gillespy2\n",
    "from gillespy2.basic_root_solver import BasicRootSolver\n",
    "from gillespy2.basic_ssa_solver import BasicSSASolver\n",
    "from gillespy2.basic_hybrid_solver import BasicHybridSolver"
   ]
  },
  {
   "cell_type": "code",
   "execution_count": 3,
   "metadata": {},
   "outputs": [],
   "source": [
    "class MichaelisMenten(gillespy2.Model):\n",
    "     def __init__(self, parameter_values=None):\n",
    "            #initialize Model\n",
    "            gillespy2.Model.__init__(self, name=\"Michaelis_Menten\")\n",
    "            \n",
    "            #parameters\n",
    "            rate1 = gillespy2.Parameter(name='rate1', expression= 0.000017)\n",
    "            rate2 = gillespy2.Parameter(name='rate2', expression= 0.005)\n",
    "            rate3 = gillespy2.Parameter(name='rate3', expression = 0.001)\n",
    "            self.add_parameter([rate1,rate2,rate3])\n",
    "            \n",
    "            #Species\n",
    "            A = gillespy2.Species(name='A', initial_value=100)\n",
    "            B = gillespy2.Species(name='B', initial_value=100)\n",
    "            C = gillespy2.Species(name='C', initial_value=100)\n",
    "            D = gillespy2.Species(name='D', initial_value=100)\n",
    "            #DET = gillespy2.Species(name='DET', initial_value=1) #Create a deterministic species\n",
    "            #Deterministic species will be a regular species, but with \"deterministic\" flag\n",
    "            DET = gillespy2.Species(name='DET', initial_value=0, deterministic=True)\n",
    "            self.add_species([A, B, C, D, DET])\n",
    "            \n",
    "            #rate_rules\n",
    "            rate_rule1 = gillespy2.RateRule(name='rate_rule1', expression=\"sin(t)\", species=DET)\n",
    "            self.add_rate_rule(rate_rule1)\n",
    "            \n",
    "            #reactions\n",
    "            r1 = gillespy2.Reaction(name=\"r1\",reactants={A:1,B:1}, products={C:1},\n",
    "                   rate=rate1)\n",
    "            \n",
    "            r2 = gillespy2.Reaction(name=\"r2\",reactants={C:1}, products={A:1,B:1},\n",
    "                    rate=rate2)\n",
    "            \n",
    "            r3 = gillespy2.Reaction(name=\"r3\",reactants={C:1}, products={B:1,D:1},\n",
    "                    rate=rate3)\n",
    "            r4 = gillespy2.Reaction(name=\"r4\", reactants={C:1}, products={D:1}, propensity_function=\"rate2*A*DET/vol\")\n",
    "            #r4 uses a deterministic species result as an argument\n",
    "            self.add_reaction([r1,r2,r3, r4])\n",
    "            self.timespan(numpy.linspace(0,100,1001))"
   ]
  },
  {
   "cell_type": "code",
   "execution_count": 4,
   "metadata": {},
   "outputs": [
    {
     "name": "stdout",
     "output_type": "stream",
     "text": [
      "Adding rate rule  <gillespy2.gillespy2.RateRule object at 0x10d4424a8>  to  Michaelis_Menten\n",
      "OrderedDict([('DET', <gillespy2.gillespy2.RateRule object at 0x10d4424a8>)])\n"
     ]
    }
   ],
   "source": [
    "model = MichaelisMenten()\n",
    "print(model.listOfRateRules)"
   ]
  },
  {
   "cell_type": "code",
   "execution_count": null,
   "metadata": {},
   "outputs": [],
   "source": [
    "results = model.run(solver=BasicHybridSolver(), show_labels=True)\n",
    "#print(results)"
   ]
  },
  {
   "cell_type": "code",
   "execution_count": null,
   "metadata": {},
   "outputs": [],
   "source": [
    "plt.plot(results['time'], results['DET'], label='DET')\n",
    "plt.legend(loc='best')"
   ]
  },
  {
   "cell_type": "code",
   "execution_count": null,
   "metadata": {},
   "outputs": [],
   "source": [
    "plt.plot(results['time'], results['A'], label='A')\n",
    "plt.plot(results['time'], results['B'], label='B')\n",
    "plt.plot(results['time'], results['C'], label='C')\n",
    "plt.plot(results['time'], results['D'], label='D')\n",
    "plt.plot(results['time'], results['DET'], label='DET')\n",
    "plt.legend(loc='best')"
   ]
  },
  {
   "cell_type": "code",
   "execution_count": null,
   "metadata": {},
   "outputs": [],
   "source": [
    "plt.plot(results['time'], results['A'], label='A')\n",
    "plt.plot(results['time'], results['B'], label='B')\n",
    "plt.plot(results['time'], results['C'], label='C')\n",
    "plt.plot(results['time'], results['D'], label='D')\n",
    "plt.plot(results['time'], results['DET'], label='DET')\n",
    "plt.legend(loc='best')"
   ]
  },
  {
   "cell_type": "code",
   "execution_count": null,
   "metadata": {},
   "outputs": [],
   "source": [
    "print(results)"
   ]
  },
  {
   "cell_type": "code",
   "execution_count": null,
   "metadata": {},
   "outputs": [],
   "source": [
    "#results = model.run(solver=BasicRootSolver(), show_labels=True)"
   ]
  },
  {
   "cell_type": "code",
   "execution_count": null,
   "metadata": {
    "scrolled": true
   },
   "outputs": [],
   "source": [
    "# plt.plot(results['time'], results['A'], label='A')\n",
    "# plt.plot(results['time'], results['B'], label='B')\n",
    "# plt.plot(results['time'], results['C'], label='C')\n",
    "# plt.plot(results['time'], results['D'], label='D')\n",
    "# plt.plot(results['time'], results['DET'], label='DET')\n",
    "# plt.legend(loc='best')"
   ]
  },
  {
   "cell_type": "code",
   "execution_count": null,
   "metadata": {},
   "outputs": [],
   "source": [
    "# print(results)"
   ]
  },
  {
   "cell_type": "code",
   "execution_count": null,
   "metadata": {},
   "outputs": [],
   "source": [
    "numpy.linspace(0,100,1001)"
   ]
  },
  {
   "cell_type": "code",
   "execution_count": null,
   "metadata": {},
   "outputs": [],
   "source": [
    "results['DET']"
   ]
  },
  {
   "cell_type": "code",
   "execution_count": null,
   "metadata": {},
   "outputs": [],
   "source": [
    "def pend(y, t, b, c):\n",
    "    theta, omega = y\n",
    "    dydt = [omega, -b*omega - c*numpy.sin(theta)]\n",
    "    return dydt\n",
    "b = 0.25\n",
    "c = 5.0\n",
    "y0 = [numpy.pi - 0.1, 0.0]\n",
    "t = numpy.linspace(0, 10, 101)\n",
    "\n",
    "from scipy.integrate import odeint\n",
    "sol = odeint(pend, y0, t, args=(b, c))\n",
    "\n",
    "import matplotlib.pyplot as plt\n",
    "plt.plot(t, sol[:, 0], 'b', label='theta(t)')\n",
    "plt.plot(t, sol[:, 1], 'g', label='omega(t)')\n",
    "plt.legend(loc='best')\n",
    "plt.xlabel('t')\n",
    "plt.grid()\n",
    "plt.show()"
   ]
  },
  {
   "cell_type": "code",
   "execution_count": null,
   "metadata": {},
   "outputs": [],
   "source": [
    "sol.shape"
   ]
  },
  {
   "cell_type": "code",
   "execution_count": null,
   "metadata": {},
   "outputs": [],
   "source": []
  }
 ],
 "metadata": {
  "kernelspec": {
   "display_name": "Python 3",
   "language": "python",
   "name": "python3"
  },
  "language_info": {
   "codemirror_mode": {
    "name": "ipython",
    "version": 3
   },
   "file_extension": ".py",
   "mimetype": "text/x-python",
   "name": "python",
   "nbconvert_exporter": "python",
   "pygments_lexer": "ipython3",
   "version": "3.6.4"
  }
 },
 "nbformat": 4,
 "nbformat_minor": 2
}
