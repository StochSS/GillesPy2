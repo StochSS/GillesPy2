{
 "cells": [
  {
   "cell_type": "code",
   "execution_count": 3,
   "metadata": {},
   "outputs": [],
   "source": [
    "import sys\n",
    "import os"
   ]
  },
  {
   "cell_type": "code",
   "execution_count": 4,
   "metadata": {},
   "outputs": [
    {
     "name": "stdout",
     "output_type": "stream",
     "text": [
      "['', 'C:\\\\Users\\\\seanm\\\\Anaconda3\\\\python36.zip', 'C:\\\\Users\\\\seanm\\\\Anaconda3\\\\DLLs', 'C:\\\\Users\\\\seanm\\\\Anaconda3\\\\lib', 'C:\\\\Users\\\\seanm\\\\Anaconda3', 'C:\\\\Users\\\\seanm\\\\Anaconda3\\\\lib\\\\site-packages', 'C:\\\\Users\\\\seanm\\\\Anaconda3\\\\lib\\\\site-packages\\\\win32', 'C:\\\\Users\\\\seanm\\\\Anaconda3\\\\lib\\\\site-packages\\\\win32\\\\lib', 'C:\\\\Users\\\\seanm\\\\Anaconda3\\\\lib\\\\site-packages\\\\Pythonwin', 'C:\\\\Users\\\\seanm\\\\Anaconda3\\\\lib\\\\site-packages\\\\IPython\\\\extensions', 'C:\\\\Users\\\\seanm\\\\.ipython', 'C:\\\\Users\\\\seanm\\\\OneDrive\\\\Documents\\\\Research\\\\GillesPy2']\n"
     ]
    }
   ],
   "source": [
    "sys.path.append(os.path.abspath(os.path.join(os.getcwd(), os.pardir)))\n",
    "print(sys.path)"
   ]
  },
  {
   "cell_type": "code",
   "execution_count": 5,
   "metadata": {},
   "outputs": [
    {
     "data": {
      "text/plain": [
       "['',\n",
       " 'C:\\\\Users\\\\seanm\\\\Anaconda3\\\\python36.zip',\n",
       " 'C:\\\\Users\\\\seanm\\\\Anaconda3\\\\DLLs',\n",
       " 'C:\\\\Users\\\\seanm\\\\Anaconda3\\\\lib',\n",
       " 'C:\\\\Users\\\\seanm\\\\Anaconda3',\n",
       " 'C:\\\\Users\\\\seanm\\\\Anaconda3\\\\lib\\\\site-packages',\n",
       " 'C:\\\\Users\\\\seanm\\\\Anaconda3\\\\lib\\\\site-packages\\\\win32',\n",
       " 'C:\\\\Users\\\\seanm\\\\Anaconda3\\\\lib\\\\site-packages\\\\win32\\\\lib',\n",
       " 'C:\\\\Users\\\\seanm\\\\Anaconda3\\\\lib\\\\site-packages\\\\Pythonwin',\n",
       " 'C:\\\\Users\\\\seanm\\\\Anaconda3\\\\lib\\\\site-packages\\\\IPython\\\\extensions',\n",
       " 'C:\\\\Users\\\\seanm\\\\.ipython',\n",
       " 'C:\\\\Users\\\\seanm\\\\OneDrive\\\\Documents\\\\Research\\\\GillesPy2']"
      ]
     },
     "execution_count": 5,
     "metadata": {},
     "output_type": "execute_result"
    }
   ],
   "source": [
    "sys.path"
   ]
  },
  {
   "cell_type": "code",
   "execution_count": 28,
   "metadata": {},
   "outputs": [],
   "source": [
    "import gillespy2\n",
    "import math\n",
    "class SimpleHybridModel(gillespy2.Model):\n",
    "     def __init__(self, parameter_values=None):\n",
    "            #initialize Model\n",
    "            gillespy2.Model.__init__(self, name=\"Simple_Hybrid_Model\")\n",
    "            \n",
    "            \n",
    "            #Species\n",
    "            A = gillespy2.Species(name='stoch_species', initial_value=0)\n",
    "            V = gillespy2.Species(name='det_species', initial_value=10, deterministic=True)\n",
    "\n",
    "            self.add_species([A, V])\n",
    "            \n",
    "            #parameters\n",
    "            k = .05\n",
    "            rate1 = gillespy2.Parameter(name='rate1', expression= k * V.value(t))\n",
    "            rate2 = gillespy2.Parameter(name='rate2', expression= 0.5)\n",
    "            self.add_parameter([rate1, rate2])\n",
    "            \n",
    "            #Rate Rules\n",
    "            rate_rule1 = gillespy2.RateRule(\"V\", math.cos(t))\n",
    "            self.add_rate_rule(rate_rule1)\n",
    "            \n",
    "            #reactions\n",
    "            r1 = gillespy2.Reaction(name=\"r1\",reactants={}, products={A:1},\n",
    "                   propensity_function=rate1)\n",
    "            \n",
    "            r2 = gillespy2.Reaction(name=\"r2\",reactants={A:1}, products={},\n",
    "                    rate=rate2)\n",
    "            \n",
    "            self.add_reaction([r1,r2])"
   ]
  },
  {
   "cell_type": "code",
   "execution_count": null,
   "metadata": {},
   "outputs": [],
   "source": []
  }
 ],
 "metadata": {
  "kernelspec": {
   "display_name": "Python 3",
   "language": "python",
   "name": "python3"
  },
  "language_info": {
   "codemirror_mode": {
    "name": "ipython",
    "version": 3
   },
   "file_extension": ".py",
   "mimetype": "text/x-python",
   "name": "python",
   "nbconvert_exporter": "python",
   "pygments_lexer": "ipython3",
   "version": "3.6.4"
  }
 },
 "nbformat": 4,
 "nbformat_minor": 2
}
