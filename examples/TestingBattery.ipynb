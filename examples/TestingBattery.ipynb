{
 "cells": [
  {
   "cell_type": "markdown",
   "metadata": {},
   "source": [
    "# This is an attempt to build a testing battery."
   ]
  },
  {
   "cell_type": "code",
   "execution_count": 2,
   "metadata": {},
   "outputs": [],
   "source": [
    "import sys\n",
    "import statistics\n",
    "from itertools import product\n",
    "from timeit import default_timer as timer\n",
    "from tqdm import tqdm\n",
    "sys.path.append(\"/home/jackson/Research/GillesPy2/\")\n",
    "import gillespy2\n",
    "from scipy import stats\n",
    "import numpy"
   ]
  },
  {
   "cell_type": "code",
   "execution_count": 3,
   "metadata": {},
   "outputs": [],
   "source": [
    "#Doing this in known order of good solvers. I imagine I'm going to have to nudge some stuff.\n",
    "#Basic ODE Is messed up. I think I remember looking into this before and it not being super difficult.\n",
    "#Linting the Optimized SSA Solver stuff, coercing into standard naming pattern. (I consider Basic SSA the standard.)\n",
    "#Ask about Dalton?\n",
    "#C stuff does not work with my plotting function! It uses a list and not a dictionary. Hooray.....\n",
    "#Removed extraneous imports from tau_leaping basic.\n",
    "#Basic_Tau_Leaping doesn't work. I know it's status is temptuous.\n",
    "#Regular Tau Hangs (I threw 30 minutes at it for the MM and TCE model, which are generally instataneous)\n",
    "#Final List before going to research meeting is SSA, Root, and Optimized\n",
    "from gillespy2.basic_ssa_solver import BasicSSASolver\n",
    "from gillespy2.ssa_c_solver import SSACSolver"
   ]
  },
  {
   "cell_type": "code",
   "execution_count": 5,
   "metadata": {},
   "outputs": [],
   "source": [
    "class MichaelisMenten(gillespy2.Model):\n",
    "     def __init__(self, parameter_values=None):\n",
    "            #initialize Model\n",
    "            gillespy2.Model.__init__(self, name=\"Michaelis_Menten\")\n",
    "            \n",
    "            #parameters\n",
    "            rate1 = gillespy2.Parameter(name='rate1', expression= 0.0017)\n",
    "            rate2 = gillespy2.Parameter(name='rate2', expression= 0.0001)\n",
    "            rate3 = gillespy2.Parameter(name='rate3', expression = 0.1)\n",
    "            self.add_parameter([rate1,rate2,rate3])\n",
    "            \n",
    "            #Species\n",
    "            A = gillespy2.Species(name='A', initial_value=301)\n",
    "            B = gillespy2.Species(name='B', initial_value=120)\n",
    "            C = gillespy2.Species(name='C', initial_value=0)\n",
    "            D = gillespy2.Species(name='D', initial_value=0)\n",
    "            self.add_species([A, B, C, D])\n",
    "            \n",
    "            #reactions\n",
    "            r1 = gillespy2.Reaction(name=\"r1\",reactants={A:1,B:1}, products={C:1},\n",
    "                   rate=rate1)\n",
    "            \n",
    "            r2 = gillespy2.Reaction(name=\"r2\",reactants={C:1}, products={A:1,B:1},\n",
    "                    rate=rate2)\n",
    "            \n",
    "            r3 = gillespy2.Reaction(name=\"r3\",reactants={C:1}, products={B:1,D:1},\n",
    "                    rate=rate3)\n",
    "            self.add_reaction([r1,r2,r3])\n",
    "            self.timespan(numpy.linspace(0,100,101))"
   ]
  },
  {
   "cell_type": "markdown",
   "metadata": {},
   "source": [
    "## Test Importation of Models."
   ]
  },
  {
   "cell_type": "code",
   "execution_count": 6,
   "metadata": {},
   "outputs": [
    {
     "name": "stderr",
     "output_type": "stream",
     "text": [
      "Model: Michaelis_Menten, Solver: <class 'gillespy2.basic_ssa_solver.BasicSSASolver'>: 100%|██████████| 100/100 [00:04<00:00, 24.01it/s]\n",
      "Model: Michaelis_Menten, Solver: <class 'gillespy2.ssa_c_solver.SSACSolver'>: 100%|██████████| 100/100 [00:49<00:00,  2.02it/s]\n"
     ]
    }
   ],
   "source": [
    "modelList = [MichaelisMenten()]\n",
    "\n",
    "solverList = [BasicSSASolver, SSACSolver]\n",
    "timingList = []\n",
    "\n",
    "\n",
    "for model, solver in product(modelList, solverList):\n",
    "    medianList = []\n",
    "    exterior_stats = []\n",
    "    for i in tqdm(range(100), desc = f'Model: {model.name}, Solver: {solver}'):\n",
    "        standard_results = model.run(stochkit_home=\"/home/jackson/StochKit/StochKit\")\n",
    "        start = timer()\n",
    "        test_results =model.run(solver=solver)\n",
    "        stop = timer()\n",
    "        medianList.append(stop-start)\n",
    "        interior_stats = []\n",
    "        for species in standard_results[0].keys():\n",
    "            if solver == SSACSolver:\n",
    "                interior_stats.append(stats.ks_2samp(standard_results[0][species], test_results[0][species])[0])\n",
    "            else:\n",
    "                interior_stats.append(stats.ks_2samp(standard_results[0][species], test_results[species])[0])\n",
    "        exterior_stats.append(statistics.median(interior_stats))\n",
    "    median = statistics.median(medianList)\n",
    "    timingList.append([model, solver, median])"
   ]
  },
  {
   "cell_type": "code",
   "execution_count": 5,
   "metadata": {},
   "outputs": [
    {
     "name": "stdout",
     "output_type": "stream",
     "text": [
      "0.5900000000000001 0.5641584158415841 0.6302970297029702 0.6335643564356436 0.6102970297029703 0.5741584158415841 0.5502970297029703 0.5939603960396039 0.5641584158415841 0.6 0.5800990099009902 0.6335643564356436 0.5501980198019802 0.584059405940594 0.6236633663366337 0.6038613861386138 0.5741584158415841 0.5939603960396039 0.65 0.6103960396039604 0.6236633663366337 0.5938613861386138 0.6038613861386138 0.6236633663366337 0.5939603960396039 0.5738613861386138 0.6002970297029703 0.6100990099009901 0.6601980198019801 0.6304950495049504 0.6200990099009901 0.62 0.62 0.6435643564356436 0.5601980198019803 0.6134653465346535 0.5702970297029702 0.61 0.6100990099009901 0.6232673267326733 0.6100990099009901 0.5900000000000001 0.5902970297029703 0.65 0.6401980198019801 0.5542574257425742 0.5601980198019803 0.6335643564356436 0.6335643564356436 0.5900990099009901 0.61 0.61 0.5838613861386138 0.584059405940594 0.5800990099009902 0.64 0.6201980198019802 0.6 0.5904950495049505 0.6301980198019802 0.63 0.62 0.62 0.6101980198019802 0.5802970297029703 0.65 0.62 0.5939603960396039 0.5900000000000001 0.62 0.6101980198019802 0.62 0.54 0.5937623762376237 0.5504950495049504 0.6 0.6137623762376238 0.6033663366336635 0.5500990099009901 0.5939603960396039 0.5615841584158415 0.584059405940594 0.584059405940594 0.5716831683168316 0.5800000000000001 0.6103960396039604 0.5939603960396039 0.584059405940594 0.6037623762376237 0.5741584158415841 0.6038613861386138 0.6200990099009901 0.62 0.6434653465346535 0.6334653465346535 0.6038613861386138 0.6137623762376238 0.6038613861386138 0.5601980198019803 0.6\n"
     ]
    }
   ],
   "source": [
    "print(*exterior_stats)"
   ]
  },
  {
   "cell_type": "code",
   "execution_count": 6,
   "metadata": {},
   "outputs": [
    {
     "ename": "ModuleNotFoundError",
     "evalue": "No module named 'gillespy2.example_models'",
     "output_type": "error",
     "traceback": [
      "\u001b[0;31m---------------------------------------------------------------------------\u001b[0m",
      "\u001b[0;31mModuleNotFoundError\u001b[0m                       Traceback (most recent call last)",
      "\u001b[0;32m<ipython-input-6-23a470fe17c0>\u001b[0m in \u001b[0;36m<module>\u001b[0;34m()\u001b[0m\n\u001b[0;32m----> 1\u001b[0;31m \u001b[0;32mfrom\u001b[0m \u001b[0mgillespy2\u001b[0m\u001b[0;34m.\u001b[0m\u001b[0mexample_models\u001b[0m \u001b[0;32mimport\u001b[0m \u001b[0mLacOperon\u001b[0m\u001b[0;34m\u001b[0m\u001b[0m\n\u001b[0m\u001b[1;32m      2\u001b[0m \u001b[0mmodel\u001b[0m \u001b[0;34m=\u001b[0m \u001b[0mLacOperon\u001b[0m\u001b[0;34m(\u001b[0m\u001b[0;34m)\u001b[0m\u001b[0;34m\u001b[0m\u001b[0m\n\u001b[1;32m      3\u001b[0m \u001b[0mstart\u001b[0m \u001b[0;34m=\u001b[0m \u001b[0mtimer\u001b[0m\u001b[0;34m(\u001b[0m\u001b[0;34m)\u001b[0m\u001b[0;34m\u001b[0m\u001b[0m\n\u001b[1;32m      4\u001b[0m \u001b[0mresults\u001b[0m \u001b[0;34m=\u001b[0m \u001b[0mmodel\u001b[0m\u001b[0;34m.\u001b[0m\u001b[0mrun\u001b[0m\u001b[0;34m(\u001b[0m\u001b[0msolver\u001b[0m\u001b[0;34m=\u001b[0m\u001b[0mBasicSSASolver\u001b[0m\u001b[0;34m)\u001b[0m\u001b[0;34m\u001b[0m\u001b[0m\n\u001b[1;32m      5\u001b[0m \u001b[0mmodel\u001b[0m\u001b[0;34m.\u001b[0m\u001b[0mplot\u001b[0m\u001b[0;34m(\u001b[0m\u001b[0mresults\u001b[0m\u001b[0;34m)\u001b[0m\u001b[0;34m\u001b[0m\u001b[0m\n",
      "\u001b[0;31mModuleNotFoundError\u001b[0m: No module named 'gillespy2.example_models'"
     ]
    }
   ],
   "source": [
    "from gillespy2.example_models import LacOperon\n",
    "model = LacOperon()\n",
    "start = timer()\n",
    "results = model.run(solver=BasicSSASolver)\n",
    "model.plot(results)"
   ]
  },
  {
   "cell_type": "code",
   "execution_count": null,
   "metadata": {},
   "outputs": [],
   "source": [
    "#Workaround for tqdm doing some weird dynamic scaling that causes a runtime error in JupyterLab.\n",
    "#Operation seems to take to long for Jupyter Lab when evaluating LacOperon Model for any solvers when coerced into a function list. Individual Stuff works well.\n",
    "for x in tqdm(range(len(solverList))):\n",
    "    model = LacOperon()\n",
    "    start = timer()\n",
    "    model.run(solver=solverList[x])\n",
    "    stop = timer()\n",
    "    timingList.append([LacOperon, str(solverList[x]), stop-start])"
   ]
  },
  {
   "cell_type": "code",
   "execution_count": null,
   "metadata": {},
   "outputs": [],
   "source": [
    "from gillespy2.example_models import MichaelisMenten\n",
    "import h5py\n",
    "model = MichaelisMenten()\n",
    "standard_results = model.run(stochkit_home=\"/home/jackson/StochKit/StochKit\")\n",
    "print(standard_results)\n",
    "# with h5py.File('MichaelisMenten.hdf5','w') as f:\n",
    "for species in model.listOfSpecies.keys():\n",
    "     print(len(standard_results[0][f'{species}']))"
   ]
  }
 ],
 "metadata": {
  "kernelspec": {
   "display_name": "Python 3",
   "language": "python",
   "name": "python3"
  },
  "language_info": {
   "codemirror_mode": {
    "name": "ipython",
    "version": 3
   },
   "file_extension": ".py",
   "mimetype": "text/x-python",
   "name": "python",
   "nbconvert_exporter": "python",
   "pygments_lexer": "ipython3",
   "version": "3.6.2"
  }
 },
 "nbformat": 4,
 "nbformat_minor": 2
}
