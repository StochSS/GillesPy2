{
 "cells": [
  {
   "cell_type": "markdown",
   "metadata": {},
   "source": [
    "# Current Testing Battery"
   ]
  },
  {
   "cell_type": "code",
   "execution_count": 1,
   "metadata": {},
   "outputs": [
    {
     "name": "stdout",
     "output_type": "stream",
     "text": [
      "Successful Import\n"
     ]
    }
   ],
   "source": [
    "import sys\n",
    "import statistics\n",
    "import numpy\n",
    "from itertools import product\n",
    "from timeit import default_timer as timer\n",
    "from tqdm import tqdm\n",
    "sys.path.append(\"/home/jackson/Research/GillesPy2/\")\n",
    "import gillespy2\n",
    "from scipy import stats"
   ]
  },
  {
   "cell_type": "code",
   "execution_count": 2,
   "metadata": {},
   "outputs": [],
   "source": [
    "from gillespy2.basic_ssa_solver import BasicSSASolver\n",
    "from gillespy2.ssa_c_solver import SSACSolver\n",
    "from gillespy2.basic_root_solver import BasicRootSolver\n",
    "from gillespy2.optimized_ssa_solver import OptimizedSSASolver\n",
    "from gillespy2.example_models import *"
   ]
  },
  {
   "cell_type": "code",
   "execution_count": 3,
   "metadata": {},
   "outputs": [
    {
     "name": "stderr",
     "output_type": "stream",
     "text": [
      "Model: Example, Solver: BasicSSASolver: 100%|██████████| 100/100 [00:02<00:00, 45.21it/s]\n",
      "Model: Example, Solver: SSACSolver: 100%|██████████| 100/100 [00:46<00:00,  2.13it/s]\n",
      "Model: Example, Solver: Basic Root Solver: 100%|██████████| 100/100 [00:04<00:00, 24.96it/s]\n",
      "Model: Example, Solver: OptimizedSSASolver: 100%|██████████| 100/100 [00:02<00:00, 47.61it/s]\n",
      "Model: Trichloroethylene, Solver: BasicSSASolver: 100%|██████████| 100/100 [00:11<00:00,  8.87it/s]\n",
      "Model: Trichloroethylene, Solver: SSACSolver: 100%|██████████| 100/100 [00:47<00:00,  2.09it/s]\n",
      "Model: Trichloroethylene, Solver: Basic Root Solver: 100%|██████████| 100/100 [02:38<00:00,  1.58s/it]\n",
      "Model: Trichloroethylene, Solver: OptimizedSSASolver: 100%|██████████| 100/100 [00:03<00:00, 30.59it/s]\n",
      "Model: Michaelis_Menten, Solver: BasicSSASolver: 100%|██████████| 100/100 [00:14<00:00,  6.84it/s]\n",
      "Model: Michaelis_Menten, Solver: SSACSolver: 100%|██████████| 100/100 [00:49<00:00,  2.01it/s]\n",
      "Model: Michaelis_Menten, Solver: Basic Root Solver: 100%|██████████| 100/100 [04:48<00:00,  2.89s/it]\n",
      "Model: Michaelis_Menten, Solver: OptimizedSSASolver: 100%|██████████| 100/100 [00:03<00:00, 29.76it/s]\n",
      "Model: Schlogl, Solver: BasicSSASolver: 100%|██████████| 100/100 [00:03<00:00, 25.47it/s]\n",
      "Model: Schlogl, Solver: SSACSolver: 100%|██████████| 100/100 [00:47<00:00,  2.09it/s]\n",
      "Model: Schlogl, Solver: Basic Root Solver: 100%|██████████| 100/100 [03:33<00:00,  2.13s/it]\n",
      "Model: Schlogl, Solver: OptimizedSSASolver: 100%|██████████| 100/100 [00:02<00:00, 40.39it/s]\n"
     ]
    }
   ],
   "source": [
    "modelList = [Example(), Trichloroethylene(), MichaelisMenten(), Schlogl()]\n",
    "\n",
    "solverList = [BasicSSASolver, SSACSolver, BasicRootSolver, OptimizedSSASolver]\n",
    "timingList = []\n",
    "\n",
    "\n",
    "for model, solver in product(modelList, solverList):\n",
    "    medianList = []\n",
    "    exterior_stats = []\n",
    "    for i in tqdm(range(100), desc = f'Model: {model.name}, Solver: {solver.name}'):\n",
    "        standard_results = model.run(stochkit_home=\"/home/jackson/StochKit/StochKit\")\n",
    "        start = timer()\n",
    "        test_results =model.run(solver=solver)\n",
    "        stop = timer()\n",
    "        medianList.append(stop-start)\n",
    "        interior_stats = []\n",
    "        for species in standard_results[0].keys():\n",
    "            if solver == SSACSolver or solver == OptimizedSSASolver:\n",
    "                interior_stats.append(stats.ks_2samp(standard_results[0][species], test_results[0][species])[0])\n",
    "            else:\n",
    "                interior_stats.append(stats.ks_2samp(standard_results[0][species], test_results[species])[0])\n",
    "        exterior_stats.append(statistics.median(interior_stats))\n",
    "    median = statistics.median(medianList)\n",
    "    timingList.append([model, solver, median])"
   ]
  }
 ],
 "metadata": {
  "kernelspec": {
   "display_name": "Python 3",
   "language": "python",
   "name": "python3"
  },
  "language_info": {
   "codemirror_mode": {
    "name": "ipython",
    "version": 3
   },
   "file_extension": ".py",
   "mimetype": "text/x-python",
   "name": "python",
   "nbconvert_exporter": "python",
   "pygments_lexer": "ipython3",
   "version": "3.6.2"
  }
 },
 "nbformat": 4,
 "nbformat_minor": 2
}
