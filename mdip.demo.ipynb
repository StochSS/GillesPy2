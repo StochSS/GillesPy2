{
 "cells": [
  {
   "cell_type": "code",
   "execution_count": 1,
   "metadata": {},
   "outputs": [
    {
     "name": "stderr",
     "output_type": "stream",
     "text": [
      "2023-07-19 10:21:30,998 - gillespy2.remote.cloud.ec2 - WARNING - boto3 and parkamiko are required for gillespy2.remote.cloud.ec2\n"
     ]
    }
   ],
   "source": [
    "import gillespy2\n",
    "import gillespy2.remote as remote\n",
    "import gillespy2.remote.core.utils.debug "
   ]
  },
  {
   "cell_type": "code",
   "execution_count": 2,
   "metadata": {},
   "outputs": [],
   "source": [
    "def create_michaelis_menten(parameter_values=None):\n",
    "    # Intialize the Model with a name of your choosing.\n",
    "    model = gillespy2.Model(name=\"Michaelis_Menten\")\n",
    "\n",
    "    \"\"\"\n",
    "    Variables (GillesPy2.Species) can be anything that participates in or is produced by a reaction channel.\n",
    "\n",
    "    - name: A user defined name for the species.\n",
    "    - initial_value: A value/population count of species at start of simulation.\n",
    "    \"\"\"\n",
    "    A = gillespy2.Species(name=\"A\", initial_value=301)\n",
    "    B = gillespy2.Species(name=\"B\", initial_value=120)\n",
    "    C = gillespy2.Species(name=\"C\", initial_value=0)\n",
    "    D = gillespy2.Species(name=\"D\", initial_value=0)\n",
    "\n",
    "    # Add the Variables to the Model.\n",
    "    model.add_species([A, B, C, D])\n",
    "\n",
    "    \"\"\"\n",
    "    Parameters are constant values relevant to the system, such as reaction kinetic rates.\n",
    "\n",
    "    - name: A user defined name for reference.\n",
    "    - expression: Some constant value.\n",
    "    \"\"\"\n",
    "    rate1 = gillespy2.Parameter(name=\"rate1\", expression=0.0017)\n",
    "    rate2 = gillespy2.Parameter(name=\"rate2\", expression=0.5)\n",
    "    rate3 = gillespy2.Parameter(name=\"rate3\", expression=0.1)\n",
    "\n",
    "    # Add the Parameters to the Model.\n",
    "    model.add_parameter([rate1, rate2, rate3])\n",
    "\n",
    "    \"\"\"\n",
    "    Reactions are the reaction channels which cause the system to change over time.\n",
    "\n",
    "    - name: A user defined name for the reaction.\n",
    "    - reactants: A dictionary with participant reactants as keys, and consumed per reaction as value.\n",
    "    - products: A dictionary with reaction products as keys, and number formed per reaction as value.\n",
    "    - rate: A parameter rate constant to be applied to the propensity of this reaction firing.\n",
    "    - propensity_function: Can be used instead of rate in order to declare a custom propensity function in string format.\n",
    "    \"\"\"\n",
    "    r1 = gillespy2.Reaction(\n",
    "            name=\"r1\",\n",
    "            reactants={'A': 1, 'B': 1}, \n",
    "            products={'C': 1},\n",
    "            rate='rate1'\n",
    "            # propensity_function='1/0' # uncomment to cause error.\n",
    "        )\n",
    "\n",
    "    r2 = gillespy2.Reaction(\n",
    "            name=\"r2\",\n",
    "            reactants={'C': 1}, \n",
    "            products={'A': 1, 'B': 1},\n",
    "            rate='rate2'\n",
    "        )\n",
    "\n",
    "    r3 = gillespy2.Reaction(\n",
    "            name=\"r3\",\n",
    "            reactants={'C': 1}, \n",
    "            products={'B': 1, 'D': 1},\n",
    "            rate='rate3'\n",
    "        )\n",
    "\n",
    "    # Add the Reactions to the Model.\n",
    "    model.add_reaction([r1, r2, r3])\n",
    "\n",
    "    # Define the timespan of the model.\n",
    "    tspan = gillespy2.TimeSpan.linspace(t=100, num_points=100)\n",
    "    \n",
    "    # Set the timespan of the Model.\n",
    "    model.timespan(tspan)\n",
    "    return model"
   ]
  },
  {
   "cell_type": "code",
   "execution_count": 3,
   "metadata": {
    "scrolled": true,
    "tags": []
   },
   "outputs": [],
   "source": [
    "myModel = create_michaelis_menten()"
   ]
  },
  {
   "cell_type": "code",
   "execution_count": 4,
   "metadata": {},
   "outputs": [],
   "source": [
    "simulation = remote.RemoteSimulation(myModel, host='localhost', solver=gillespy2.NumPySSASolver)"
   ]
  },
  {
   "cell_type": "code",
   "execution_count": 6,
   "metadata": {},
   "outputs": [
    {
     "name": "stderr",
     "output_type": "stream",
     "text": [
      "2023-07-19 10:21:43,205 - gillespy2.remote.client.server - DEBUG - {'model': '{\\n    \"_generate_translation_table\": true,\\n    \"_hash_private_vars\": false,\\n    \"_listOfAssignmentRules\": {},\\n    \"_listOfEvents\": {},\\n    \"_listOfFunctionDefinitions\": {},\\n    \"_listOfParameters\": {\\n        \"rate1\": \"P0\",\\n        \"rate2\": \"P1\",\\n        \"rate3\": \"P2\"\\n    },\\n    \"_listOfRateRules\": {},\\n    \"_listOfReactions\": {\\n        \"r1\": {\\n            \"_type\": \"gillespy2.core.reaction.Reaction\",\\n            \"annotation\": null,\\n            \"marate\": null,\\n            \"massaction\": false,\\n            \"name\": \"R1\",\\n            \"ode_propensity_function\": \"(((P0*S0)*S1)/vol)\",\\n            \"products\": [\\n                {\\n                    \"key\": \"S2\",\\n                    \"value\": 1\\n                }\\n            ],\\n            \"propensity_function\": \"(((P0*S0)*S1)/vol)\",\\n            \"reactants\": [\\n                {\\n                    \"key\": \"S0\",\\n                    \"value\": 1\\n                },\\n                {\\n                    \"key\": \"S1\",\\n                    \"value\": 1\\n                }\\n            ],\\n            \"type\": \"customized\"\\n        },\\n        \"r2\": {\\n            \"_type\": \"gillespy2.core.reaction.Reaction\",\\n            \"annotation\": null,\\n            \"marate\": null,\\n            \"massaction\": false,\\n            \"name\": \"R2\",\\n            \"ode_propensity_function\": \"(P1*S2)\",\\n            \"products\": [\\n                {\\n                    \"key\": \"S0\",\\n                    \"value\": 1\\n                },\\n                {\\n                    \"key\": \"S1\",\\n                    \"value\": 1\\n                }\\n            ],\\n            \"propensity_function\": \"(P1*S2)\",\\n            \"reactants\": [\\n                {\\n                    \"key\": \"S2\",\\n                    \"value\": 1\\n                }\\n            ],\\n            \"type\": \"customized\"\\n        },\\n        \"r3\": {\\n            \"_type\": \"gillespy2.core.reaction.Reaction\",\\n            \"annotation\": null,\\n            \"marate\": null,\\n            \"massaction\": false,\\n            \"name\": \"R3\",\\n            \"ode_propensity_function\": \"(P2*S2)\",\\n            \"products\": [\\n                {\\n                    \"key\": \"S1\",\\n                    \"value\": 1\\n                },\\n                {\\n                    \"key\": \"S3\",\\n                    \"value\": 1\\n                }\\n            ],\\n            \"propensity_function\": \"(P2*S2)\",\\n            \"reactants\": [\\n                {\\n                    \"key\": \"S2\",\\n                    \"value\": 1\\n                }\\n            ],\\n            \"type\": \"customized\"\\n        }\\n    },\\n    \"_listOfSpecies\": {\\n        \"A\": \"S0\",\\n        \"B\": \"S1\",\\n        \"C\": \"S2\",\\n        \"D\": \"S3\"\\n    },\\n    \"_type\": \"gillespy2.core.model.Model\",\\n    \"annotation\": \"model\",\\n    \"listOfAssignmentRules\": {},\\n    \"listOfEvents\": {},\\n    \"listOfFunctionDefinitions\": {},\\n    \"listOfParameters\": {\\n        \"rate1\": {\\n            \"_type\": \"gillespy2.core.parameter.Parameter\",\\n            \"expression\": \"0.0017\",\\n            \"name\": \"rate1\",\\n            \"value\": 0.0017\\n        },\\n        \"rate2\": {\\n            \"_type\": \"gillespy2.core.parameter.Parameter\",\\n            \"expression\": \"0.5\",\\n            \"name\": \"rate2\",\\n            \"value\": 0.5\\n        },\\n        \"rate3\": {\\n            \"_type\": \"gillespy2.core.parameter.Parameter\",\\n            \"expression\": \"0.1\",\\n            \"name\": \"rate3\",\\n            \"value\": 0.1\\n        }\\n    },\\n    \"listOfRateRules\": {},\\n    \"listOfReactions\": {\\n        \"r1\": {\\n            \"_type\": \"gillespy2.core.reaction.Reaction\",\\n            \"annotation\": null,\\n            \"marate\": {\\n                \"_type\": \"gillespy2.core.parameter.Parameter\",\\n                \"expression\": \"0.0017\",\\n                \"name\": \"rate1\",\\n                \"value\": 0.0017\\n            },\\n            \"massaction\": true,\\n            \"name\": \"r1\",\\n            \"ode_propensity_function\": \"((rate1*A)*B)\",\\n            \"products\": [\\n                {\\n                    \"key\": {\\n                        \"_hash\": -5406967187597232989,\\n                        \"_type\": \"gillespy2.core.species.Species\",\\n                        \"allow_negative_populations\": false,\\n                        \"boundary_condition\": false,\\n                        \"constant\": false,\\n                        \"initial_value\": 0,\\n                        \"mode\": null,\\n                        \"name\": \"C\",\\n                        \"switch_min\": 0,\\n                        \"switch_tol\": 0.03\\n                    },\\n                    \"value\": 1\\n                }\\n            ],\\n            \"propensity_function\": \"(((rate1*A)*B)/vol)\",\\n            \"reactants\": [\\n                {\\n                    \"key\": {\\n                        \"_hash\": 1689242874924442423,\\n                        \"_type\": \"gillespy2.core.species.Species\",\\n                        \"allow_negative_populations\": false,\\n                        \"boundary_condition\": false,\\n                        \"constant\": false,\\n                        \"initial_value\": 301,\\n                        \"mode\": null,\\n                        \"name\": \"A\",\\n                        \"switch_min\": 0,\\n                        \"switch_tol\": 0.03\\n                    },\\n                    \"value\": 1\\n                },\\n                {\\n                    \"key\": {\\n                        \"_hash\": 1522382677053280009,\\n                        \"_type\": \"gillespy2.core.species.Species\",\\n                        \"allow_negative_populations\": false,\\n                        \"boundary_condition\": false,\\n                        \"constant\": false,\\n                        \"initial_value\": 120,\\n                        \"mode\": null,\\n                        \"name\": \"B\",\\n                        \"switch_min\": 0,\\n                        \"switch_tol\": 0.03\\n                    },\\n                    \"value\": 1\\n                }\\n            ],\\n            \"type\": \"mass-action\"\\n        },\\n        \"r2\": {\\n            \"_type\": \"gillespy2.core.reaction.Reaction\",\\n            \"annotation\": null,\\n            \"marate\": {\\n                \"_type\": \"gillespy2.core.parameter.Parameter\",\\n                \"expression\": \"0.5\",\\n                \"name\": \"rate2\",\\n                \"value\": 0.5\\n            },\\n            \"massaction\": true,\\n            \"name\": \"r2\",\\n            \"ode_propensity_function\": \"(rate2*C)\",\\n            \"products\": [\\n                {\\n                    \"key\": {\\n                        \"_hash\": 1689242874924442423,\\n                        \"_type\": \"gillespy2.core.species.Species\",\\n                        \"allow_negative_populations\": false,\\n                        \"boundary_condition\": false,\\n                        \"constant\": false,\\n                        \"initial_value\": 301,\\n                        \"mode\": null,\\n                        \"name\": \"A\",\\n                        \"switch_min\": 0,\\n                        \"switch_tol\": 0.03\\n                    },\\n                    \"value\": 1\\n                },\\n                {\\n                    \"key\": {\\n                        \"_hash\": 1522382677053280009,\\n                        \"_type\": \"gillespy2.core.species.Species\",\\n                        \"allow_negative_populations\": false,\\n                        \"boundary_condition\": false,\\n                        \"constant\": false,\\n                        \"initial_value\": 120,\\n                        \"mode\": null,\\n                        \"name\": \"B\",\\n                        \"switch_min\": 0,\\n                        \"switch_tol\": 0.03\\n                    },\\n                    \"value\": 1\\n                }\\n            ],\\n            \"propensity_function\": \"(rate2*C)\",\\n            \"reactants\": [\\n                {\\n                    \"key\": {\\n                        \"_hash\": -5406967187597232989,\\n                        \"_type\": \"gillespy2.core.species.Species\",\\n                        \"allow_negative_populations\": false,\\n                        \"boundary_condition\": false,\\n                        \"constant\": false,\\n                        \"initial_value\": 0,\\n                        \"mode\": null,\\n                        \"name\": \"C\",\\n                        \"switch_min\": 0,\\n                        \"switch_tol\": 0.03\\n                    },\\n                    \"value\": 1\\n                }\\n            ],\\n            \"type\": \"mass-action\"\\n        },\\n        \"r3\": {\\n            \"_type\": \"gillespy2.core.reaction.Reaction\",\\n            \"annotation\": null,\\n            \"marate\": {\\n                \"_type\": \"gillespy2.core.parameter.Parameter\",\\n                \"expression\": \"0.1\",\\n                \"name\": \"rate3\",\\n                \"value\": 0.1\\n            },\\n            \"massaction\": true,\\n            \"name\": \"r3\",\\n            \"ode_propensity_function\": \"(rate3*C)\",\\n            \"products\": [\\n                {\\n                    \"key\": {\\n                        \"_hash\": 1522382677053280009,\\n                        \"_type\": \"gillespy2.core.species.Species\",\\n                        \"allow_negative_populations\": false,\\n                        \"boundary_condition\": false,\\n                        \"constant\": false,\\n                        \"initial_value\": 120,\\n                        \"mode\": null,\\n                        \"name\": \"B\",\\n                        \"switch_min\": 0,\\n                        \"switch_tol\": 0.03\\n                    },\\n                    \"value\": 1\\n                },\\n                {\\n                    \"key\": {\\n                        \"_hash\": 8606284047498760059,\\n                        \"_type\": \"gillespy2.core.species.Species\",\\n                        \"allow_negative_populations\": false,\\n                        \"boundary_condition\": false,\\n                        \"constant\": false,\\n                        \"initial_value\": 0,\\n                        \"mode\": null,\\n                        \"name\": \"D\",\\n                        \"switch_min\": 0,\\n                        \"switch_tol\": 0.03\\n                    },\\n                    \"value\": 1\\n                }\\n            ],\\n            \"propensity_function\": \"(rate3*C)\",\\n            \"reactants\": [\\n                {\\n                    \"key\": {\\n                        \"_hash\": -5406967187597232989,\\n                        \"_type\": \"gillespy2.core.species.Species\",\\n                        \"allow_negative_populations\": false,\\n                        \"boundary_condition\": false,\\n                        \"constant\": false,\\n                        \"initial_value\": 0,\\n                        \"mode\": null,\\n                        \"name\": \"C\",\\n                        \"switch_min\": 0,\\n                        \"switch_tol\": 0.03\\n                    },\\n                    \"value\": 1\\n                }\\n            ],\\n            \"type\": \"mass-action\"\\n        }\\n    },\\n    \"listOfSpecies\": {\\n        \"A\": {\\n            \"_hash\": 1689242874924442423,\\n            \"_type\": \"gillespy2.core.species.Species\",\\n            \"allow_negative_populations\": false,\\n            \"boundary_condition\": false,\\n            \"constant\": false,\\n            \"initial_value\": 301,\\n            \"mode\": null,\\n            \"name\": \"A\",\\n            \"switch_min\": 0,\\n            \"switch_tol\": 0.03\\n        },\\n        \"B\": {\\n            \"_hash\": 1522382677053280009,\\n            \"_type\": \"gillespy2.core.species.Species\",\\n            \"allow_negative_populations\": false,\\n            \"boundary_condition\": false,\\n            \"constant\": false,\\n            \"initial_value\": 120,\\n            \"mode\": null,\\n            \"name\": \"B\",\\n            \"switch_min\": 0,\\n            \"switch_tol\": 0.03\\n        },\\n        \"C\": {\\n            \"_hash\": -5406967187597232989,\\n            \"_type\": \"gillespy2.core.species.Species\",\\n            \"allow_negative_populations\": false,\\n            \"boundary_condition\": false,\\n            \"constant\": false,\\n            \"initial_value\": 0,\\n            \"mode\": null,\\n            \"name\": \"C\",\\n            \"switch_min\": 0,\\n            \"switch_tol\": 0.03\\n        },\\n        \"D\": {\\n            \"_hash\": 8606284047498760059,\\n            \"_type\": \"gillespy2.core.species.Species\",\\n            \"allow_negative_populations\": false,\\n            \"boundary_condition\": false,\\n            \"constant\": false,\\n            \"initial_value\": 0,\\n            \"mode\": null,\\n            \"name\": \"D\",\\n            \"switch_min\": 0,\\n            \"switch_tol\": 0.03\\n        }\\n    },\\n    \"name\": \"Michaelis_Menten\",\\n    \"namespace\": {\\n        \"rate1\": 0.0017,\\n        \"rate2\": 0.5\\n    },\\n    \"tspan\": {\\n        \"_type\": \"gillespy2.core.timespan.TimeSpan\",\\n        \"items\": {\\n            \"_type\": \"gillespy2.core.jsonify.NdArrayCoder\",\\n            \"data\": [\\n                0.0,\\n                1.0101010101010102,\\n                2.0202020202020203,\\n                3.0303030303030303,\\n                4.040404040404041,\\n                5.050505050505051,\\n                6.0606060606060606,\\n                7.070707070707071,\\n                8.080808080808081,\\n                9.090909090909092,\\n                10.101010101010102,\\n                11.111111111111112,\\n                12.121212121212121,\\n                13.131313131313131,\\n                14.141414141414142,\\n                15.151515151515152,\\n                16.161616161616163,\\n                17.171717171717173,\\n                18.181818181818183,\\n                19.191919191919194,\\n                20.202020202020204,\\n                21.212121212121215,\\n                22.222222222222225,\\n                23.232323232323235,\\n                24.242424242424242,\\n                25.252525252525253,\\n                26.262626262626263,\\n                27.272727272727273,\\n                28.282828282828284,\\n                29.292929292929294,\\n                30.303030303030305,\\n                31.313131313131315,\\n                32.323232323232325,\\n                33.333333333333336,\\n                34.343434343434346,\\n                35.35353535353536,\\n                36.36363636363637,\\n                37.37373737373738,\\n                38.38383838383839,\\n                39.3939393939394,\\n                40.40404040404041,\\n                41.41414141414142,\\n                42.42424242424243,\\n                43.43434343434344,\\n                44.44444444444445,\\n                45.45454545454546,\\n                46.46464646464647,\\n                47.47474747474748,\\n                48.484848484848484,\\n                49.494949494949495,\\n                50.505050505050505,\\n                51.515151515151516,\\n                52.525252525252526,\\n                53.535353535353536,\\n                54.54545454545455,\\n                55.55555555555556,\\n                56.56565656565657,\\n                57.57575757575758,\\n                58.58585858585859,\\n                59.5959595959596,\\n                60.60606060606061,\\n                61.61616161616162,\\n                62.62626262626263,\\n                63.63636363636364,\\n                64.64646464646465,\\n                65.65656565656566,\\n                66.66666666666667,\\n                67.67676767676768,\\n                68.68686868686869,\\n                69.6969696969697,\\n                70.70707070707071,\\n                71.71717171717172,\\n                72.72727272727273,\\n                73.73737373737374,\\n                74.74747474747475,\\n                75.75757575757576,\\n                76.76767676767678,\\n                77.77777777777779,\\n                78.7878787878788,\\n                79.7979797979798,\\n                80.80808080808082,\\n                81.81818181818183,\\n                82.82828282828284,\\n                83.83838383838385,\\n                84.84848484848486,\\n                85.85858585858587,\\n                86.86868686868688,\\n                87.87878787878789,\\n                88.8888888888889,\\n                89.89898989898991,\\n                90.90909090909092,\\n                91.91919191919193,\\n                92.92929292929294,\\n                93.93939393939395,\\n                94.94949494949496,\\n                95.95959595959597,\\n                96.96969696969697,\\n                97.97979797979798,\\n                98.98989898989899,\\n                100.0\\n            ]\\n        }\\n    },\\n    \"units\": \"population\",\\n    \"volume\": 1.0\\n}', 'kwargs': {'solver': 'gillespy2.solvers.numpy.ssa_solver.NumPySSASolver'}, 'id': 'a25f451380dc2ebe2049918d33ac6c67', 'results_id': 'a25f451380dc2ebe2049918d33ac6c67', 'namespace': None, 'ignore_cache': True}\n",
      "2023-07-19 10:21:43,206 - gillespy2.remote.client.server - DEBUG - http://localhost:29681/api/v3/simulation/gillespy2/run/cache\n",
      "2023-07-19 10:21:43,211 - urllib3.connectionpool - DEBUG - Starting new HTTP connection (1): localhost:29681\n"
     ]
    },
    {
     "name": "stdout",
     "output_type": "stream",
     "text": [
      "[SimulationRunCacheRequest] http://localhost:29681/api/v3/simulation/gillespy2/run/cache\n",
      "Unknown error: HTTPConnectionPool(host='localhost', port=29681): Max retries exceeded with url: /api/v3/simulation/gillespy2/run/cache (Caused by NewConnectionError('<urllib3.connection.HTTPConnection object at 0x7fc5a1fa5150>: Failed to establish a new connection: [Errno 111] Connection refused')). Retrying in 3 seconds....\n"
     ]
    },
    {
     "name": "stderr",
     "output_type": "stream",
     "text": [
      "2023-07-19 10:21:46,226 - urllib3.connectionpool - DEBUG - Starting new HTTP connection (1): localhost:29681\n"
     ]
    },
    {
     "name": "stdout",
     "output_type": "stream",
     "text": [
      "[SimulationRunCacheRequest] http://localhost:29681/api/v3/simulation/gillespy2/run/cache\n",
      "Unknown error: HTTPConnectionPool(host='localhost', port=29681): Max retries exceeded with url: /api/v3/simulation/gillespy2/run/cache (Caused by NewConnectionError('<urllib3.connection.HTTPConnection object at 0x7fc5a1dae990>: Failed to establish a new connection: [Errno 111] Connection refused')). Retrying in 6 seconds....\n"
     ]
    },
    {
     "name": "stderr",
     "output_type": "stream",
     "text": [
      "2023-07-19 10:21:52,232 - urllib3.connectionpool - DEBUG - Starting new HTTP connection (1): localhost:29681\n"
     ]
    },
    {
     "name": "stdout",
     "output_type": "stream",
     "text": [
      "[SimulationRunCacheRequest] http://localhost:29681/api/v3/simulation/gillespy2/run/cache\n",
      "Unknown error: HTTPConnectionPool(host='localhost', port=29681): Max retries exceeded with url: /api/v3/simulation/gillespy2/run/cache (Caused by NewConnectionError('<urllib3.connection.HTTPConnection object at 0x7fc5a39c9c90>: Failed to establish a new connection: [Errno 111] Connection refused')). Retrying in 18 seconds....\n"
     ]
    },
    {
     "ename": "KeyboardInterrupt",
     "evalue": "",
     "output_type": "error",
     "traceback": [
      "\u001b[0;31m---------------------------------------------------------------------------\u001b[0m",
      "\u001b[0;31mConnectionRefusedError\u001b[0m                    Traceback (most recent call last)",
      "File \u001b[0;32m~/GillesPy2/env/lib/python3.11/site-packages/urllib3/connection.py:174\u001b[0m, in \u001b[0;36mHTTPConnection._new_conn\u001b[0;34m(self)\u001b[0m\n\u001b[1;32m    173\u001b[0m \u001b[39mtry\u001b[39;00m:\n\u001b[0;32m--> 174\u001b[0m     conn \u001b[39m=\u001b[39m connection\u001b[39m.\u001b[39;49mcreate_connection(\n\u001b[1;32m    175\u001b[0m         (\u001b[39mself\u001b[39;49m\u001b[39m.\u001b[39;49m_dns_host, \u001b[39mself\u001b[39;49m\u001b[39m.\u001b[39;49mport), \u001b[39mself\u001b[39;49m\u001b[39m.\u001b[39;49mtimeout, \u001b[39m*\u001b[39;49m\u001b[39m*\u001b[39;49mextra_kw\n\u001b[1;32m    176\u001b[0m     )\n\u001b[1;32m    178\u001b[0m \u001b[39mexcept\u001b[39;00m SocketTimeout:\n",
      "File \u001b[0;32m~/GillesPy2/env/lib/python3.11/site-packages/urllib3/util/connection.py:95\u001b[0m, in \u001b[0;36mcreate_connection\u001b[0;34m(address, timeout, source_address, socket_options)\u001b[0m\n\u001b[1;32m     94\u001b[0m \u001b[39mif\u001b[39;00m err \u001b[39mis\u001b[39;00m \u001b[39mnot\u001b[39;00m \u001b[39mNone\u001b[39;00m:\n\u001b[0;32m---> 95\u001b[0m     \u001b[39mraise\u001b[39;00m err\n\u001b[1;32m     97\u001b[0m \u001b[39mraise\u001b[39;00m socket\u001b[39m.\u001b[39merror(\u001b[39m\"\u001b[39m\u001b[39mgetaddrinfo returns an empty list\u001b[39m\u001b[39m\"\u001b[39m)\n",
      "File \u001b[0;32m~/GillesPy2/env/lib/python3.11/site-packages/urllib3/util/connection.py:85\u001b[0m, in \u001b[0;36mcreate_connection\u001b[0;34m(address, timeout, source_address, socket_options)\u001b[0m\n\u001b[1;32m     84\u001b[0m     sock\u001b[39m.\u001b[39mbind(source_address)\n\u001b[0;32m---> 85\u001b[0m sock\u001b[39m.\u001b[39;49mconnect(sa)\n\u001b[1;32m     86\u001b[0m \u001b[39mreturn\u001b[39;00m sock\n",
      "\u001b[0;31mConnectionRefusedError\u001b[0m: [Errno 111] Connection refused",
      "\nDuring handling of the above exception, another exception occurred:\n",
      "\u001b[0;31mNewConnectionError\u001b[0m                        Traceback (most recent call last)",
      "File \u001b[0;32m~/GillesPy2/env/lib/python3.11/site-packages/urllib3/connectionpool.py:714\u001b[0m, in \u001b[0;36mHTTPConnectionPool.urlopen\u001b[0;34m(self, method, url, body, headers, retries, redirect, assert_same_host, timeout, pool_timeout, release_conn, chunked, body_pos, **response_kw)\u001b[0m\n\u001b[1;32m    713\u001b[0m \u001b[39m# Make the request on the httplib connection object.\u001b[39;00m\n\u001b[0;32m--> 714\u001b[0m httplib_response \u001b[39m=\u001b[39m \u001b[39mself\u001b[39;49m\u001b[39m.\u001b[39;49m_make_request(\n\u001b[1;32m    715\u001b[0m     conn,\n\u001b[1;32m    716\u001b[0m     method,\n\u001b[1;32m    717\u001b[0m     url,\n\u001b[1;32m    718\u001b[0m     timeout\u001b[39m=\u001b[39;49mtimeout_obj,\n\u001b[1;32m    719\u001b[0m     body\u001b[39m=\u001b[39;49mbody,\n\u001b[1;32m    720\u001b[0m     headers\u001b[39m=\u001b[39;49mheaders,\n\u001b[1;32m    721\u001b[0m     chunked\u001b[39m=\u001b[39;49mchunked,\n\u001b[1;32m    722\u001b[0m )\n\u001b[1;32m    724\u001b[0m \u001b[39m# If we're going to release the connection in ``finally:``, then\u001b[39;00m\n\u001b[1;32m    725\u001b[0m \u001b[39m# the response doesn't need to know about the connection. Otherwise\u001b[39;00m\n\u001b[1;32m    726\u001b[0m \u001b[39m# it will also try to release it and we'll have a double-release\u001b[39;00m\n\u001b[1;32m    727\u001b[0m \u001b[39m# mess.\u001b[39;00m\n",
      "File \u001b[0;32m~/GillesPy2/env/lib/python3.11/site-packages/urllib3/connectionpool.py:415\u001b[0m, in \u001b[0;36mHTTPConnectionPool._make_request\u001b[0;34m(self, conn, method, url, timeout, chunked, **httplib_request_kw)\u001b[0m\n\u001b[1;32m    414\u001b[0m     \u001b[39melse\u001b[39;00m:\n\u001b[0;32m--> 415\u001b[0m         conn\u001b[39m.\u001b[39;49mrequest(method, url, \u001b[39m*\u001b[39;49m\u001b[39m*\u001b[39;49mhttplib_request_kw)\n\u001b[1;32m    417\u001b[0m \u001b[39m# We are swallowing BrokenPipeError (errno.EPIPE) since the server is\u001b[39;00m\n\u001b[1;32m    418\u001b[0m \u001b[39m# legitimately able to close the connection after sending a valid response.\u001b[39;00m\n\u001b[1;32m    419\u001b[0m \u001b[39m# With this behaviour, the received response is still readable.\u001b[39;00m\n",
      "File \u001b[0;32m~/GillesPy2/env/lib/python3.11/site-packages/urllib3/connection.py:244\u001b[0m, in \u001b[0;36mHTTPConnection.request\u001b[0;34m(self, method, url, body, headers)\u001b[0m\n\u001b[1;32m    243\u001b[0m     headers[\u001b[39m\"\u001b[39m\u001b[39mUser-Agent\u001b[39m\u001b[39m\"\u001b[39m] \u001b[39m=\u001b[39m _get_default_user_agent()\n\u001b[0;32m--> 244\u001b[0m \u001b[39msuper\u001b[39;49m(HTTPConnection, \u001b[39mself\u001b[39;49m)\u001b[39m.\u001b[39;49mrequest(method, url, body\u001b[39m=\u001b[39;49mbody, headers\u001b[39m=\u001b[39;49mheaders)\n",
      "File \u001b[0;32m~/.python/cpython.dip.build.3.11/lib/python3.11/http/client.py:1282\u001b[0m, in \u001b[0;36mHTTPConnection.request\u001b[0;34m(self, method, url, body, headers, encode_chunked)\u001b[0m\n\u001b[1;32m   1281\u001b[0m \u001b[39m\u001b[39m\u001b[39m\"\"\"Send a complete request to the server.\"\"\"\u001b[39;00m\n\u001b[0;32m-> 1282\u001b[0m \u001b[39mself\u001b[39;49m\u001b[39m.\u001b[39;49m_send_request(method, url, body, headers, encode_chunked)\n",
      "File \u001b[0;32m~/.python/cpython.dip.build.3.11/lib/python3.11/http/client.py:1328\u001b[0m, in \u001b[0;36mHTTPConnection._send_request\u001b[0;34m(self, method, url, body, headers, encode_chunked)\u001b[0m\n\u001b[1;32m   1327\u001b[0m     body \u001b[39m=\u001b[39m _encode(body, \u001b[39m'\u001b[39m\u001b[39mbody\u001b[39m\u001b[39m'\u001b[39m)\n\u001b[0;32m-> 1328\u001b[0m \u001b[39mself\u001b[39;49m\u001b[39m.\u001b[39;49mendheaders(body, encode_chunked\u001b[39m=\u001b[39;49mencode_chunked)\n",
      "File \u001b[0;32m~/.python/cpython.dip.build.3.11/lib/python3.11/http/client.py:1277\u001b[0m, in \u001b[0;36mHTTPConnection.endheaders\u001b[0;34m(self, message_body, encode_chunked)\u001b[0m\n\u001b[1;32m   1276\u001b[0m     \u001b[39mraise\u001b[39;00m CannotSendHeader()\n\u001b[0;32m-> 1277\u001b[0m \u001b[39mself\u001b[39;49m\u001b[39m.\u001b[39;49m_send_output(message_body, encode_chunked\u001b[39m=\u001b[39;49mencode_chunked)\n",
      "File \u001b[0;32m~/.python/cpython.dip.build.3.11/lib/python3.11/http/client.py:1037\u001b[0m, in \u001b[0;36mHTTPConnection._send_output\u001b[0;34m(self, message_body, encode_chunked)\u001b[0m\n\u001b[1;32m   1036\u001b[0m \u001b[39mdel\u001b[39;00m \u001b[39mself\u001b[39m\u001b[39m.\u001b[39m_buffer[:]\n\u001b[0;32m-> 1037\u001b[0m \u001b[39mself\u001b[39;49m\u001b[39m.\u001b[39;49msend(msg)\n\u001b[1;32m   1039\u001b[0m \u001b[39mif\u001b[39;00m message_body \u001b[39mis\u001b[39;00m \u001b[39mnot\u001b[39;00m \u001b[39mNone\u001b[39;00m:\n\u001b[1;32m   1040\u001b[0m \n\u001b[1;32m   1041\u001b[0m     \u001b[39m# create a consistent interface to message_body\u001b[39;00m\n",
      "File \u001b[0;32m~/.python/cpython.dip.build.3.11/lib/python3.11/http/client.py:975\u001b[0m, in \u001b[0;36mHTTPConnection.send\u001b[0;34m(self, data)\u001b[0m\n\u001b[1;32m    974\u001b[0m \u001b[39mif\u001b[39;00m \u001b[39mself\u001b[39m\u001b[39m.\u001b[39mauto_open:\n\u001b[0;32m--> 975\u001b[0m     \u001b[39mself\u001b[39;49m\u001b[39m.\u001b[39;49mconnect()\n\u001b[1;32m    976\u001b[0m \u001b[39melse\u001b[39;00m:\n",
      "File \u001b[0;32m~/GillesPy2/env/lib/python3.11/site-packages/urllib3/connection.py:205\u001b[0m, in \u001b[0;36mHTTPConnection.connect\u001b[0;34m(self)\u001b[0m\n\u001b[1;32m    204\u001b[0m \u001b[39mdef\u001b[39;00m \u001b[39mconnect\u001b[39m(\u001b[39mself\u001b[39m):\n\u001b[0;32m--> 205\u001b[0m     conn \u001b[39m=\u001b[39m \u001b[39mself\u001b[39;49m\u001b[39m.\u001b[39;49m_new_conn()\n\u001b[1;32m    206\u001b[0m     \u001b[39mself\u001b[39m\u001b[39m.\u001b[39m_prepare_conn(conn)\n",
      "File \u001b[0;32m~/GillesPy2/env/lib/python3.11/site-packages/urllib3/connection.py:186\u001b[0m, in \u001b[0;36mHTTPConnection._new_conn\u001b[0;34m(self)\u001b[0m\n\u001b[1;32m    185\u001b[0m \u001b[39mexcept\u001b[39;00m SocketError \u001b[39mas\u001b[39;00m e:\n\u001b[0;32m--> 186\u001b[0m     \u001b[39mraise\u001b[39;00m NewConnectionError(\n\u001b[1;32m    187\u001b[0m         \u001b[39mself\u001b[39m, \u001b[39m\"\u001b[39m\u001b[39mFailed to establish a new connection: \u001b[39m\u001b[39m%s\u001b[39;00m\u001b[39m\"\u001b[39m \u001b[39m%\u001b[39m e\n\u001b[1;32m    188\u001b[0m     )\n\u001b[1;32m    190\u001b[0m \u001b[39mreturn\u001b[39;00m conn\n",
      "\u001b[0;31mNewConnectionError\u001b[0m: <urllib3.connection.HTTPConnection object at 0x7fc5a39c9c90>: Failed to establish a new connection: [Errno 111] Connection refused",
      "\nDuring handling of the above exception, another exception occurred:\n",
      "\u001b[0;31mMaxRetryError\u001b[0m                             Traceback (most recent call last)",
      "File \u001b[0;32m~/GillesPy2/env/lib/python3.11/site-packages/requests/adapters.py:489\u001b[0m, in \u001b[0;36mHTTPAdapter.send\u001b[0;34m(self, request, stream, timeout, verify, cert, proxies)\u001b[0m\n\u001b[1;32m    488\u001b[0m \u001b[39mif\u001b[39;00m \u001b[39mnot\u001b[39;00m chunked:\n\u001b[0;32m--> 489\u001b[0m     resp \u001b[39m=\u001b[39m conn\u001b[39m.\u001b[39;49murlopen(\n\u001b[1;32m    490\u001b[0m         method\u001b[39m=\u001b[39;49mrequest\u001b[39m.\u001b[39;49mmethod,\n\u001b[1;32m    491\u001b[0m         url\u001b[39m=\u001b[39;49murl,\n\u001b[1;32m    492\u001b[0m         body\u001b[39m=\u001b[39;49mrequest\u001b[39m.\u001b[39;49mbody,\n\u001b[1;32m    493\u001b[0m         headers\u001b[39m=\u001b[39;49mrequest\u001b[39m.\u001b[39;49mheaders,\n\u001b[1;32m    494\u001b[0m         redirect\u001b[39m=\u001b[39;49m\u001b[39mFalse\u001b[39;49;00m,\n\u001b[1;32m    495\u001b[0m         assert_same_host\u001b[39m=\u001b[39;49m\u001b[39mFalse\u001b[39;49;00m,\n\u001b[1;32m    496\u001b[0m         preload_content\u001b[39m=\u001b[39;49m\u001b[39mFalse\u001b[39;49;00m,\n\u001b[1;32m    497\u001b[0m         decode_content\u001b[39m=\u001b[39;49m\u001b[39mFalse\u001b[39;49;00m,\n\u001b[1;32m    498\u001b[0m         retries\u001b[39m=\u001b[39;49m\u001b[39mself\u001b[39;49m\u001b[39m.\u001b[39;49mmax_retries,\n\u001b[1;32m    499\u001b[0m         timeout\u001b[39m=\u001b[39;49mtimeout,\n\u001b[1;32m    500\u001b[0m     )\n\u001b[1;32m    502\u001b[0m \u001b[39m# Send the request.\u001b[39;00m\n\u001b[1;32m    503\u001b[0m \u001b[39melse\u001b[39;00m:\n",
      "File \u001b[0;32m~/GillesPy2/env/lib/python3.11/site-packages/urllib3/connectionpool.py:798\u001b[0m, in \u001b[0;36mHTTPConnectionPool.urlopen\u001b[0;34m(self, method, url, body, headers, retries, redirect, assert_same_host, timeout, pool_timeout, release_conn, chunked, body_pos, **response_kw)\u001b[0m\n\u001b[1;32m    796\u001b[0m     e \u001b[39m=\u001b[39m ProtocolError(\u001b[39m\"\u001b[39m\u001b[39mConnection aborted.\u001b[39m\u001b[39m\"\u001b[39m, e)\n\u001b[0;32m--> 798\u001b[0m retries \u001b[39m=\u001b[39m retries\u001b[39m.\u001b[39;49mincrement(\n\u001b[1;32m    799\u001b[0m     method, url, error\u001b[39m=\u001b[39;49me, _pool\u001b[39m=\u001b[39;49m\u001b[39mself\u001b[39;49m, _stacktrace\u001b[39m=\u001b[39;49msys\u001b[39m.\u001b[39;49mexc_info()[\u001b[39m2\u001b[39;49m]\n\u001b[1;32m    800\u001b[0m )\n\u001b[1;32m    801\u001b[0m retries\u001b[39m.\u001b[39msleep()\n",
      "File \u001b[0;32m~/GillesPy2/env/lib/python3.11/site-packages/urllib3/util/retry.py:592\u001b[0m, in \u001b[0;36mRetry.increment\u001b[0;34m(self, method, url, response, error, _pool, _stacktrace)\u001b[0m\n\u001b[1;32m    591\u001b[0m \u001b[39mif\u001b[39;00m new_retry\u001b[39m.\u001b[39mis_exhausted():\n\u001b[0;32m--> 592\u001b[0m     \u001b[39mraise\u001b[39;00m MaxRetryError(_pool, url, error \u001b[39mor\u001b[39;00m ResponseError(cause))\n\u001b[1;32m    594\u001b[0m log\u001b[39m.\u001b[39mdebug(\u001b[39m\"\u001b[39m\u001b[39mIncremented Retry for (url=\u001b[39m\u001b[39m'\u001b[39m\u001b[39m%s\u001b[39;00m\u001b[39m'\u001b[39m\u001b[39m): \u001b[39m\u001b[39m%r\u001b[39;00m\u001b[39m\"\u001b[39m, url, new_retry)\n",
      "\u001b[0;31mMaxRetryError\u001b[0m: HTTPConnectionPool(host='localhost', port=29681): Max retries exceeded with url: /api/v3/simulation/gillespy2/run/cache (Caused by NewConnectionError('<urllib3.connection.HTTPConnection object at 0x7fc5a39c9c90>: Failed to establish a new connection: [Errno 111] Connection refused'))",
      "\nDuring handling of the above exception, another exception occurred:\n",
      "\u001b[0;31mConnectionError\u001b[0m                           Traceback (most recent call last)",
      "File \u001b[0;32m~/GillesPy2/gillespy2/remote/client/server.py:121\u001b[0m, in \u001b[0;36mServer.post\u001b[0;34m(self, endpoint, sub, request)\u001b[0m\n\u001b[1;32m    120\u001b[0m     \u001b[39mprint\u001b[39m(\u001b[39mf\u001b[39m\u001b[39m\"\u001b[39m\u001b[39m[\u001b[39m\u001b[39m{\u001b[39;00m\u001b[39mtype\u001b[39m(request)\u001b[39m.\u001b[39m\u001b[39m__name__\u001b[39m\u001b[39m}\u001b[39;00m\u001b[39m] \u001b[39m\u001b[39m{\u001b[39;00murl\u001b[39m}\u001b[39;00m\u001b[39m\"\u001b[39m)\n\u001b[0;32m--> 121\u001b[0m     \u001b[39mreturn\u001b[39;00m requests\u001b[39m.\u001b[39;49mpost(url, json\u001b[39m=\u001b[39;49mrequest\u001b[39m.\u001b[39;49mencode(), timeout\u001b[39m=\u001b[39;49m\u001b[39m30\u001b[39;49m)\n\u001b[1;32m    123\u001b[0m \u001b[39mexcept\u001b[39;00m \u001b[39mConnectionError\u001b[39;00m:\n",
      "File \u001b[0;32m~/GillesPy2/env/lib/python3.11/site-packages/requests/api.py:115\u001b[0m, in \u001b[0;36mpost\u001b[0;34m(url, data, json, **kwargs)\u001b[0m\n\u001b[1;32m    104\u001b[0m \u001b[39m\u001b[39m\u001b[39mr\u001b[39m\u001b[39m\"\"\"Sends a POST request.\u001b[39;00m\n\u001b[1;32m    105\u001b[0m \n\u001b[1;32m    106\u001b[0m \u001b[39m:param url: URL for the new :class:`Request` object.\u001b[39;00m\n\u001b[0;32m   (...)\u001b[0m\n\u001b[1;32m    112\u001b[0m \u001b[39m:rtype: requests.Response\u001b[39;00m\n\u001b[1;32m    113\u001b[0m \u001b[39m\"\"\"\u001b[39;00m\n\u001b[0;32m--> 115\u001b[0m \u001b[39mreturn\u001b[39;00m request(\u001b[39m\"\u001b[39;49m\u001b[39mpost\u001b[39;49m\u001b[39m\"\u001b[39;49m, url, data\u001b[39m=\u001b[39;49mdata, json\u001b[39m=\u001b[39;49mjson, \u001b[39m*\u001b[39;49m\u001b[39m*\u001b[39;49mkwargs)\n",
      "File \u001b[0;32m~/GillesPy2/env/lib/python3.11/site-packages/requests/api.py:59\u001b[0m, in \u001b[0;36mrequest\u001b[0;34m(method, url, **kwargs)\u001b[0m\n\u001b[1;32m     58\u001b[0m \u001b[39mwith\u001b[39;00m sessions\u001b[39m.\u001b[39mSession() \u001b[39mas\u001b[39;00m session:\n\u001b[0;32m---> 59\u001b[0m     \u001b[39mreturn\u001b[39;00m session\u001b[39m.\u001b[39;49mrequest(method\u001b[39m=\u001b[39;49mmethod, url\u001b[39m=\u001b[39;49murl, \u001b[39m*\u001b[39;49m\u001b[39m*\u001b[39;49mkwargs)\n",
      "File \u001b[0;32m~/GillesPy2/env/lib/python3.11/site-packages/requests/sessions.py:587\u001b[0m, in \u001b[0;36mSession.request\u001b[0;34m(self, method, url, params, data, headers, cookies, files, auth, timeout, allow_redirects, proxies, hooks, stream, verify, cert, json)\u001b[0m\n\u001b[1;32m    586\u001b[0m send_kwargs\u001b[39m.\u001b[39mupdate(settings)\n\u001b[0;32m--> 587\u001b[0m resp \u001b[39m=\u001b[39m \u001b[39mself\u001b[39;49m\u001b[39m.\u001b[39;49msend(prep, \u001b[39m*\u001b[39;49m\u001b[39m*\u001b[39;49msend_kwargs)\n\u001b[1;32m    589\u001b[0m \u001b[39mreturn\u001b[39;00m resp\n",
      "File \u001b[0;32m~/GillesPy2/env/lib/python3.11/site-packages/requests/sessions.py:701\u001b[0m, in \u001b[0;36mSession.send\u001b[0;34m(self, request, **kwargs)\u001b[0m\n\u001b[1;32m    700\u001b[0m \u001b[39m# Send the request\u001b[39;00m\n\u001b[0;32m--> 701\u001b[0m r \u001b[39m=\u001b[39m adapter\u001b[39m.\u001b[39;49msend(request, \u001b[39m*\u001b[39;49m\u001b[39m*\u001b[39;49mkwargs)\n\u001b[1;32m    703\u001b[0m \u001b[39m# Total elapsed time of the request (approximately)\u001b[39;00m\n",
      "File \u001b[0;32m~/GillesPy2/env/lib/python3.11/site-packages/requests/adapters.py:565\u001b[0m, in \u001b[0;36mHTTPAdapter.send\u001b[0;34m(self, request, stream, timeout, verify, cert, proxies)\u001b[0m\n\u001b[1;32m    563\u001b[0m         \u001b[39mraise\u001b[39;00m SSLError(e, request\u001b[39m=\u001b[39mrequest)\n\u001b[0;32m--> 565\u001b[0m     \u001b[39mraise\u001b[39;00m \u001b[39mConnectionError\u001b[39;00m(e, request\u001b[39m=\u001b[39mrequest)\n\u001b[1;32m    567\u001b[0m \u001b[39mexcept\u001b[39;00m ClosedPoolError \u001b[39mas\u001b[39;00m e:\n",
      "\u001b[0;31mConnectionError\u001b[0m: HTTPConnectionPool(host='localhost', port=29681): Max retries exceeded with url: /api/v3/simulation/gillespy2/run/cache (Caused by NewConnectionError('<urllib3.connection.HTTPConnection object at 0x7fc5a39c9c90>: Failed to establish a new connection: [Errno 111] Connection refused'))",
      "\nDuring handling of the above exception, another exception occurred:\n",
      "\u001b[0;31mKeyboardInterrupt\u001b[0m                         Traceback (most recent call last)",
      "Cell \u001b[0;32mIn[6], line 1\u001b[0m\n\u001b[0;32m----> 1\u001b[0m results \u001b[39m=\u001b[39m simulation\u001b[39m.\u001b[39;49mrun(ignore_cache\u001b[39m=\u001b[39;49m\u001b[39mTrue\u001b[39;49;00m)\n",
      "File \u001b[0;32m~/GillesPy2/gillespy2/remote/core/remote_simulation.py:134\u001b[0m, in \u001b[0;36mRemoteSimulation.run\u001b[0;34m(self, namespace, ignore_cache, **params)\u001b[0m\n\u001b[1;32m    132\u001b[0m     params[\u001b[39m\"\u001b[39m\u001b[39msolver\u001b[39m\u001b[39m\"\u001b[39m] \u001b[39m=\u001b[39m \u001b[39mf\u001b[39m\u001b[39m\"\u001b[39m\u001b[39m{\u001b[39;00m\u001b[39mself\u001b[39m\u001b[39m.\u001b[39msolver\u001b[39m.\u001b[39m\u001b[39m__module__\u001b[39m\u001b[39m}\u001b[39;00m\u001b[39m.\u001b[39m\u001b[39m{\u001b[39;00m\u001b[39mself\u001b[39m\u001b[39m.\u001b[39msolver\u001b[39m.\u001b[39m\u001b[39m__qualname__\u001b[39m\u001b[39m}\u001b[39;00m\u001b[39m\"\u001b[39m\n\u001b[1;32m    133\u001b[0m sim_request \u001b[39m=\u001b[39m SimulationRunCacheRequest(\u001b[39mself\u001b[39m\u001b[39m.\u001b[39mmodel, namespace\u001b[39m=\u001b[39mnamespace, ignore_cache\u001b[39m=\u001b[39mignore_cache, \u001b[39m*\u001b[39m\u001b[39m*\u001b[39mparams)\n\u001b[0;32m--> 134\u001b[0m \u001b[39mreturn\u001b[39;00m \u001b[39mself\u001b[39;49m\u001b[39m.\u001b[39;49m_run_cache(sim_request)\n",
      "File \u001b[0;32m~/GillesPy2/gillespy2/remote/core/remote_simulation.py:141\u001b[0m, in \u001b[0;36mRemoteSimulation._run_cache\u001b[0;34m(self, request)\u001b[0m\n\u001b[1;32m    136\u001b[0m \u001b[39mdef\u001b[39;00m \u001b[39m_run_cache\u001b[39m(\u001b[39mself\u001b[39m, request):\n\u001b[1;32m    137\u001b[0m \u001b[39m    \u001b[39m\u001b[39m'''\u001b[39;00m\n\u001b[1;32m    138\u001b[0m \u001b[39m    :param request: Request to send to the server. Contains Model and related arguments.\u001b[39;00m\n\u001b[1;32m    139\u001b[0m \u001b[39m    :type request: SimulationRunRequest\u001b[39;00m\n\u001b[1;32m    140\u001b[0m \u001b[39m    '''\u001b[39;00m\n\u001b[0;32m--> 141\u001b[0m     response_raw \u001b[39m=\u001b[39m \u001b[39mself\u001b[39;49m\u001b[39m.\u001b[39;49mserver\u001b[39m.\u001b[39;49mpost(Endpoint\u001b[39m.\u001b[39;49mSIMULATION_GILLESPY2, sub\u001b[39m=\u001b[39;49m\u001b[39m'\u001b[39;49m\u001b[39m/run/cache\u001b[39;49m\u001b[39m'\u001b[39;49m, request\u001b[39m=\u001b[39;49mrequest)\n\u001b[1;32m    143\u001b[0m     \u001b[39mif\u001b[39;00m \u001b[39mnot\u001b[39;00m response_raw\u001b[39m.\u001b[39mok:\n\u001b[1;32m    144\u001b[0m         \u001b[39mraise\u001b[39;00m \u001b[39mException\u001b[39;00m(response_raw\u001b[39m.\u001b[39mreason)\n",
      "File \u001b[0;32m~/GillesPy2/gillespy2/remote/client/server.py:130\u001b[0m, in \u001b[0;36mServer.post\u001b[0;34m(self, endpoint, sub, request)\u001b[0m\n\u001b[1;32m    128\u001b[0m \u001b[39mexcept\u001b[39;00m \u001b[39mException\u001b[39;00m \u001b[39mas\u001b[39;00m err:\n\u001b[1;32m    129\u001b[0m     \u001b[39mprint\u001b[39m(\u001b[39mf\u001b[39m\u001b[39m\"\u001b[39m\u001b[39mUnknown error: \u001b[39m\u001b[39m{\u001b[39;00merr\u001b[39m}\u001b[39;00m\u001b[39m. Retrying in \u001b[39m\u001b[39m{\u001b[39;00msec\u001b[39m}\u001b[39;00m\u001b[39m seconds....\u001b[39m\u001b[39m\"\u001b[39m)\n\u001b[0;32m--> 130\u001b[0m     sleep(sec)\n\u001b[1;32m    131\u001b[0m     n_try \u001b[39m+\u001b[39m\u001b[39m=\u001b[39m \u001b[39m1\u001b[39m\n\u001b[1;32m    132\u001b[0m     sec \u001b[39m*\u001b[39m\u001b[39m=\u001b[39m n_try\n",
      "\u001b[0;31mKeyboardInterrupt\u001b[0m: "
     ]
    }
   ],
   "source": [
    "results = simulation.run(ignore_cache=True)"
   ]
  },
  {
   "cell_type": "code",
   "execution_count": null,
   "metadata": {},
   "outputs": [],
   "source": [
    "results.plot()"
   ]
  },
  {
   "cell_type": "code",
   "execution_count": null,
   "metadata": {},
   "outputs": [],
   "source": []
  }
 ],
 "metadata": {
  "kernelspec": {
   "display_name": "Python 3 (ipykernel)",
   "language": "python",
   "name": "python3"
  },
  "language_info": {
   "codemirror_mode": {
    "name": "ipython",
    "version": 3
   },
   "file_extension": ".py",
   "mimetype": "text/x-python",
   "name": "python",
   "nbconvert_exporter": "python",
   "pygments_lexer": "ipython3",
   "version": "3.11.2+"
  },
  "vscode": {
   "interpreter": {
    "hash": "ef56f9d787682a6ac61c29852cd545f557bd05dd1aa39793e08a6cd6ebb9b699"
   }
  }
 },
 "nbformat": 4,
 "nbformat_minor": 2
}
